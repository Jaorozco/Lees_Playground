{
 "cells": [
  {
   "cell_type": "code",
   "execution_count": 1,
   "metadata": {},
   "outputs": [],
   "source": [
    "facultycsv = \"\"\"name, degree, title, email\n",
    "Scarlett L. Bellamy, Sc.D.,Associate Professor of Biostatistics,bellamys@mail.med.upenn.edu\n",
    "Warren B. Bilker,Ph.D.,Professor of Biostatistics,warren@upenn.edu\n",
    "Matthew W Bryan, PhD,Assistant Professor of Biostatistics,bryanma@upenn.edu\n",
    "Jinbo Chen, Ph.D.,Associate Professor of Biostatistics,jinboche@upenn.edu\n",
    "Susan S Ellenberg, Ph.D.,Professor of Biostatistics,sellenbe@upenn.edu\n",
    "Jonas H. Ellenberg, Ph.D.,Professor of Biostatistics,jellenbe@mail.med.upenn.edu\n",
    "Rui Feng, Ph.D,Assistant Professor of Biostatistics,ruifeng@upenn.edu\n",
    "Benjamin C. French, PhD,Associate Professor of Biostatistics,bcfrench@mail.med.upenn.edu\n",
    "Phyllis A. Gimotty, Ph.D,Professor of Biostatistics,pgimotty@upenn.edu\n",
    "Wensheng Guo, Ph.D,Professor of Biostatistics,wguo@mail.med.upenn.edu\n",
    "Yenchih Hsu, Ph.D.,Assistant Professor of Biostatistics,hsu9@mail.med.upenn.edu\n",
    "Rebecca A Hubbard, PhD,Associate Professor of Biostatistics,rhubb@mail.med.upenn.edu\n",
    "Wei-Ting Hwang, Ph.D.,Associate Professor of Biostatistics,whwang@mail.med.upenn.edu\n",
    "Marshall M. Joffe, MD MPH Ph.D,Professor of Biostatistics,mjoffe@mail.med.upenn.edu\n",
    "J. Richard Landis, B.S.Ed. M.S. Ph.D.,Professor of Biostatistics,jrlandis@mail.med.upenn.edu\n",
    "Yimei Li, Ph.D.,Assistant Professor of Biostatistics,liy3@email.chop.edu\n",
    "Mingyao Li, Ph.D.,Associate Professor of Biostatistics,mingyao@mail.med.upenn.edu\n",
    "Hongzhe Li, Ph.D,Professor of Biostatistics,hongzhe@upenn.edu\n",
    "A. Russell Localio, JD MA MPH MS PhD,Associate Professor of Biostatistics,rlocalio@upenn.edu\n",
    "Nandita Mitra, Ph.D.,Associate Professor of Biostatistics,nanditam@mail.med.upenn.edu\n",
    "Knashawn H. Morales, Sc.D.,Associate Professor of Biostatistics,knashawn@mail.med.upenn.edu\n",
    "Kathleen Joy Propert, Sc.D.,Professor of Biostatistics,propert@mail.med.upenn.edu\n",
    "Mary E. Putt, PhD ScD,Professor of Biostatistics,mputt@mail.med.upenn.edu\n",
    "Sarah Jane Ratcliffe, Ph.D.,Associate Professor of Biostatistics,sratclif@upenn.edu\n",
    "Michelle Elana Ross, PhD,Assistant Professor is Biostatistics,michross@upenn.edu\n",
    "Jason A. Roy, Ph.D.,Associate Professor of Biostatistics,jaroy@mail.med.upenn.edu\n",
    "Mary D. Sammel, Sc.D.,Professor of Biostatistics,msammel@cceb.med.upenn.edu\n",
    "Pamela Ann Shaw, PhD,Assistant Professor of Biostatistics,shawp@upenn.edu\n",
    "Russell Takeshi Shinohara,0,Assistant Professor of Biostatistics,rshi@mail.med.upenn.edu\n",
    "Haochang Shou, Ph.D.,Assistant Professor of Biostatistics,hshou@mail.med.upenn.edu\n",
    "Justine Shults, Ph.D.,Professor of Biostatistics,jshults@mail.med.upenn.edu\n",
    "Alisa Jane Stephens, Ph.D.,Assistant Professor of Biostatistics,alisaste@mail.med.upenn.edu\n",
    "Andrea Beth Troxel, ScD,Professor of Biostatistics,atroxel@mail.med.upenn.edu\n",
    "Rui Xiao, PhD,Assistant Professor of Biostatistics,rxiao@mail.med.upenn.edu\n",
    "Sharon Xiangwen Xie, Ph.D.,Associate Professor of Biostatistics,sxie@mail.med.upenn.edu\n",
    "Dawei Xie, PhD,Assistant Professor of Biostatistics,dxie@upenn.edu\n",
    "Wei (Peter) Yang, Ph.D.,Assistant Professor of Biostatistics,weiyang@mail.med.upenn.edu\"\"\"\n",
    "\n",
    "with open('faculty.csv', 'w') as f:\n",
    "    f.write(facultycsv)"
   ]
  },
  {
   "cell_type": "code",
   "execution_count": 12,
   "metadata": {},
   "outputs": [
    {
     "data": {
      "text/plain": [
       "{'SCD': 6,\n",
       " 'PHD': 31,\n",
       " 'MD': 1,\n",
       " 'MPH': 2,\n",
       " 'BSED': 1,\n",
       " 'MS': 2,\n",
       " 'JD': 1,\n",
       " 'MA': 1,\n",
       " '0': 1}"
      ]
     },
     "execution_count": 12,
     "metadata": {},
     "output_type": "execute_result"
    }
   ],
   "source": [
    "import csv\n",
    "import re\n",
    "from collections import Counter\n",
    "\n",
    "def count_degrees(csv_file_name):\n",
    "    with open(csv_file_name, 'r') as csv_file:\n",
    "        csv_reader = csv.reader(csv_file)\n",
    "        \n",
    "        next(csv_reader)\n",
    "        my_list1 = []\n",
    "        my_list2 = []\n",
    "        degree = []\n",
    "        \n",
    "        for line in csv_reader:\n",
    "            my_list1.append(re.sub(r'[.]',r'',line[1]))\n",
    "        #print(my_list1)        \n",
    "        for line2 in my_list1:\n",
    "            for line3 in line2.split():\n",
    "                my_list2.append(line3)\n",
    "        #print(my_list2)\n",
    "        for line4 in my_list2:\n",
    "            degree.append(line4.upper())\n",
    "            d = Counter(degree)\n",
    "        return dict(d)\n",
    "\n",
    "count_degrees('faculty.csv')"
   ]
  },
  {
   "cell_type": "code",
   "execution_count": 8,
   "metadata": {},
   "outputs": [
    {
     "name": "stdout",
     "output_type": "stream",
     "text": [
      "['SCD', 'PHD', 'PHD', 'PHD', 'PHD', 'PHD', 'PHD', 'PHD', 'PHD', 'PHD', 'PHD', 'PHD', 'PHD', 'MD', 'MPH', 'PHD', 'BSED', 'MS', 'PHD', 'PHD', 'PHD', 'PHD', 'JD', 'MA', 'MPH', 'MS', 'PHD', 'PHD', 'SCD', 'SCD', 'PHD', 'SCD', 'PHD', 'PHD', 'PHD', 'SCD', 'PHD', '0', 'PHD', 'PHD', 'PHD', 'SCD', 'PHD', 'PHD', 'PHD', 'PHD']\n",
      "Counter({'PHD': 31, 'SCD': 6, 'MPH': 2, 'MS': 2, 'MD': 1, 'BSED': 1, 'JD': 1, 'MA': 1, '0': 1})\n"
     ]
    }
   ],
   "source": [
    "import csv\n",
    "import re\n",
    "from collections import Counter\n",
    "#def count_degrees(csv_file_name):\n",
    "with open('faculty.csv', 'r') as csv_file:\n",
    "    csv_reader = csv.reader(csv_file)\n",
    "        \n",
    "    next(csv_reader)\n",
    "    my_list1 = []\n",
    "    my_list2 = []\n",
    "    degrees = [] \n",
    "    \n",
    "    \n",
    "    \n",
    "    for line in csv_reader:\n",
    "        my_list1.append(re.sub(r'[.]',r'',line[1]))\n",
    "    #print(my_list1)        \n",
    "    for line2 in my_list1:\n",
    "        for line3 in line2.split():\n",
    "            my_list2.append(line3)\n",
    "    #print(my_list2)\n",
    "    for line4 in my_list2:\n",
    "        degrees.append(line4.upper())\n",
    "    \n",
    "    print(degrees)\n",
    "    #for degree in degrees:\n",
    "    #    dict_1[degree] = dict_1.get(degree, 0) + 1\n",
    "    #    print(dict_1)\n",
    "    \n",
    "    dict_1 = Counter(degrees)\n",
    "    print(dict_1) \n",
    "     "
   ]
  },
  {
   "cell_type": "code",
   "execution_count": 13,
   "metadata": {},
   "outputs": [
    {
     "data": {
      "text/plain": [
       "Counter({'SCD': 6,\n",
       "         'PHD': 31,\n",
       "         'MD': 1,\n",
       "         'MPH': 2,\n",
       "         'BSED': 1,\n",
       "         'MS': 2,\n",
       "         'JD': 1,\n",
       "         'MA': 1,\n",
       "         '0': 1})"
      ]
     },
     "execution_count": 13,
     "metadata": {},
     "output_type": "execute_result"
    }
   ],
   "source": [
    "import csv\n",
    "import re\n",
    "from collections import Counter\n",
    "def count_degrees(csv_file_name):\n",
    "    with open(csv_file_name, 'r') as csv_file:\n",
    "        csv_reader = csv.reader(csv_file)\n",
    "        \n",
    "        next(csv_reader)\n",
    "        my_list1 = []\n",
    "        my_list2 = []\n",
    "        degrees = []\n",
    "        dict_1 = {}\n",
    "        \n",
    "        for line in csv_reader:\n",
    "            my_list1.append(re.sub(r'[.]',r'',line[1]))\n",
    "        #print(my_list1)        \n",
    "        for line2 in my_list1:\n",
    "            for line3 in line2.split():\n",
    "                my_list2.append(line3)\n",
    "        #print(my_list2)\n",
    "        for line4 in my_list2:\n",
    "            degrees.append(line4.upper())\n",
    "            #print(degrees)\n",
    "        dict_1 = Counter(degrees)\n",
    "        return dict_1\n",
    "        #return dict_1.values()\n",
    "        \n",
    "count_degrees('faculty.csv')    \n",
    "#print(re.sub(r'[.]',r'',line[1]))"
   ]
  },
  {
   "cell_type": "code",
   "execution_count": 51,
   "metadata": {},
   "outputs": [
    {
     "name": "stdout",
     "output_type": "stream",
     "text": [
      "Counter({'PROFESSOR': 13, 'ASSOCIATE': 12, 'ASSISTANT': 12})\n"
     ]
    }
   ],
   "source": [
    "import csv\n",
    "import re\n",
    "from collections import Counter\n",
    "#def count_titles(csv_file_name):\n",
    "with open('faculty.csv', 'r') as csv_file:\n",
    "    csv_reader = csv.reader(csv_file)\n",
    "        \n",
    "    next(csv_reader)\n",
    "    my_list1 = []\n",
    "    my_list2 = []\n",
    "    titles = []\n",
    "    dict_2 = {}\n",
    "    \n",
    "    for line in csv_reader:\n",
    "        my_list1.append(line[2])\n",
    "    for line2 in my_list1:\n",
    "        my_list2.append(line2[0:9])\n",
    "    for line3 in my_list2:\n",
    "        titles.append(line3.upper())\n",
    "        dict_2 = Counter(titles)\n",
    "    print(dict_2)\n",
    "        \n",
    "#count_titles('faculty.csv') "
   ]
  },
  {
   "cell_type": "code",
   "execution_count": 52,
   "metadata": {},
   "outputs": [
    {
     "data": {
      "text/plain": [
       "Counter({'ASSOCIATE': 12, 'PROFESSOR': 13, 'ASSISTANT': 12})"
      ]
     },
     "execution_count": 52,
     "metadata": {},
     "output_type": "execute_result"
    }
   ],
   "source": [
    "import csv\n",
    "import re\n",
    "from collections import Counter\n",
    "def count_titles(csv_file_name):\n",
    "    with open(csv_file_name, 'r') as csv_file:\n",
    "        csv_reader = csv.reader(csv_file)\n",
    "        \n",
    "        next(csv_reader)\n",
    "        my_list1 = []\n",
    "        my_list2 = []\n",
    "        titles = []\n",
    "        dict_2 = {}\n",
    "    \n",
    "        for line in csv_reader:\n",
    "            my_list1.append(line[2])\n",
    "        for line2 in my_list1:\n",
    "            my_list2.append(line2[0:9])\n",
    "        for line3 in my_list2:\n",
    "            titles.append(line3.upper())\n",
    "            dict_2 = Counter(titles)\n",
    "        return dict_2\n",
    "        \n",
    "count_titles('faculty.csv') "
   ]
  },
  {
   "cell_type": "code",
   "execution_count": 11,
   "metadata": {},
   "outputs": [
    {
     "name": "stdout",
     "output_type": "stream",
     "text": [
      "['BELLAMYS@MAIL.MED.UPENN.EDU', 'WARREN@UPENN.EDU', 'BRYANMA@UPENN.EDU', 'JINBOCHE@UPENN.EDU', 'SELLENBE@UPENN.EDU', 'JELLENBE@MAIL.MED.UPENN.EDU', 'RUIFENG@UPENN.EDU', 'BCFRENCH@MAIL.MED.UPENN.EDU', 'PGIMOTTY@UPENN.EDU', 'WGUO@MAIL.MED.UPENN.EDU', 'HSU9@MAIL.MED.UPENN.EDU', 'RHUBB@MAIL.MED.UPENN.EDU', 'WHWANG@MAIL.MED.UPENN.EDU', 'MJOFFE@MAIL.MED.UPENN.EDU', 'JRLANDIS@MAIL.MED.UPENN.EDU', 'LIY3@EMAIL.CHOP.EDU', 'MINGYAO@MAIL.MED.UPENN.EDU', 'HONGZHE@UPENN.EDU', 'RLOCALIO@UPENN.EDU', 'NANDITAM@MAIL.MED.UPENN.EDU', 'KNASHAWN@MAIL.MED.UPENN.EDU', 'PROPERT@MAIL.MED.UPENN.EDU', 'MPUTT@MAIL.MED.UPENN.EDU', 'SRATCLIF@UPENN.EDU', 'MICHROSS@UPENN.EDU', 'JAROY@MAIL.MED.UPENN.EDU', 'MSAMMEL@CCEB.MED.UPENN.EDU', 'SHAWP@UPENN.EDU', 'RSHI@MAIL.MED.UPENN.EDU', 'HSHOU@MAIL.MED.UPENN.EDU', 'JSHULTS@MAIL.MED.UPENN.EDU', 'ALISASTE@MAIL.MED.UPENN.EDU', 'ATROXEL@MAIL.MED.UPENN.EDU', 'RXIAO@MAIL.MED.UPENN.EDU', 'SXIE@MAIL.MED.UPENN.EDU', 'DXIE@UPENN.EDU', 'WEIYANG@MAIL.MED.UPENN.EDU']\n"
     ]
    }
   ],
   "source": [
    "import csv\n",
    "\n",
    "with open('faculty.csv', 'r') as csv_file:\n",
    "    csv_reader = csv.reader(csv_file)\n",
    "        \n",
    "    next(csv_reader)\n",
    "    my_list1 = []\n",
    "    emails = []\n",
    "    \n",
    "    for line in csv_reader:\n",
    "        my_list1.append(line[3])\n",
    "    for line2 in my_list1:\n",
    "        emails.append(line2.upper())\n",
    "    \n",
    "    print(emails)"
   ]
  },
  {
   "cell_type": "code",
   "execution_count": 14,
   "metadata": {},
   "outputs": [
    {
     "data": {
      "text/plain": [
       "['BELLAMYS@MAIL.MED.UPENN.EDU',\n",
       " 'WARREN@UPENN.EDU',\n",
       " 'BRYANMA@UPENN.EDU',\n",
       " 'JINBOCHE@UPENN.EDU',\n",
       " 'SELLENBE@UPENN.EDU',\n",
       " 'JELLENBE@MAIL.MED.UPENN.EDU',\n",
       " 'RUIFENG@UPENN.EDU',\n",
       " 'BCFRENCH@MAIL.MED.UPENN.EDU',\n",
       " 'PGIMOTTY@UPENN.EDU',\n",
       " 'WGUO@MAIL.MED.UPENN.EDU',\n",
       " 'HSU9@MAIL.MED.UPENN.EDU',\n",
       " 'RHUBB@MAIL.MED.UPENN.EDU',\n",
       " 'WHWANG@MAIL.MED.UPENN.EDU',\n",
       " 'MJOFFE@MAIL.MED.UPENN.EDU',\n",
       " 'JRLANDIS@MAIL.MED.UPENN.EDU',\n",
       " 'LIY3@EMAIL.CHOP.EDU',\n",
       " 'MINGYAO@MAIL.MED.UPENN.EDU',\n",
       " 'HONGZHE@UPENN.EDU',\n",
       " 'RLOCALIO@UPENN.EDU',\n",
       " 'NANDITAM@MAIL.MED.UPENN.EDU',\n",
       " 'KNASHAWN@MAIL.MED.UPENN.EDU',\n",
       " 'PROPERT@MAIL.MED.UPENN.EDU',\n",
       " 'MPUTT@MAIL.MED.UPENN.EDU',\n",
       " 'SRATCLIF@UPENN.EDU',\n",
       " 'MICHROSS@UPENN.EDU',\n",
       " 'JAROY@MAIL.MED.UPENN.EDU',\n",
       " 'MSAMMEL@CCEB.MED.UPENN.EDU',\n",
       " 'SHAWP@UPENN.EDU',\n",
       " 'RSHI@MAIL.MED.UPENN.EDU',\n",
       " 'HSHOU@MAIL.MED.UPENN.EDU',\n",
       " 'JSHULTS@MAIL.MED.UPENN.EDU',\n",
       " 'ALISASTE@MAIL.MED.UPENN.EDU',\n",
       " 'ATROXEL@MAIL.MED.UPENN.EDU',\n",
       " 'RXIAO@MAIL.MED.UPENN.EDU',\n",
       " 'SXIE@MAIL.MED.UPENN.EDU',\n",
       " 'DXIE@UPENN.EDU',\n",
       " 'WEIYANG@MAIL.MED.UPENN.EDU']"
      ]
     },
     "execution_count": 14,
     "metadata": {},
     "output_type": "execute_result"
    }
   ],
   "source": [
    "import csv\n",
    "\n",
    "def emails(csv_filename):\n",
    "    with open('faculty.csv', 'r') as csv_file:\n",
    "        csv_reader = csv.reader(csv_file)\n",
    "        \n",
    "        next(csv_reader)\n",
    "        my_list1 = []\n",
    "        emails = []\n",
    "    \n",
    "        for line in csv_reader:\n",
    "            my_list1.append(line[3])\n",
    "        for line2 in my_list1:\n",
    "            emails.append(line2.upper())\n",
    "        return emails\n",
    "\n",
    "emails('faculty.csv')"
   ]
  },
  {
   "cell_type": "code",
   "execution_count": 64,
   "metadata": {},
   "outputs": [
    {
     "name": "stdout",
     "output_type": "stream",
     "text": [
      "dict_keys(['mail.med.upenn.edu', 'upenn.edu', 'email.chop.edu', 'cceb.med.upenn.edu'])\n"
     ]
    }
   ],
   "source": [
    "import csv\n",
    "import re\n",
    "from collections import Counter\n",
    "\n",
    "with open('faculty.csv', 'r') as csv_file:\n",
    "    csv_reader = csv.reader(csv_file)\n",
    "        \n",
    "    next(csv_reader)\n",
    "    my_list1 = []\n",
    "    my_list2 = []\n",
    "    domains = []\n",
    "    \n",
    "    for line in csv_reader:\n",
    "        for line2 in re.findall('@.*',line[3]):\n",
    "            my_list1.append(line2)\n",
    "    for line3 in my_list1:\n",
    "        my_list2.append(line3.replace('@',''))\n",
    "    domains = Counter(my_list2)\n",
    "    print(domains.keys())   \n",
    "    "
   ]
  },
  {
   "cell_type": "code",
   "execution_count": 23,
   "metadata": {},
   "outputs": [
    {
     "data": {
      "text/plain": [
       "dict_keys(['mail.med.upenn.edu', 'upenn.edu', 'email.chop.edu', 'cceb.med.upenn.edu'])"
      ]
     },
     "execution_count": 23,
     "metadata": {},
     "output_type": "execute_result"
    }
   ],
   "source": [
    "import csv\n",
    "import re\n",
    "from collections import Counter\n",
    "\n",
    "def unique_domains(emails):\n",
    "    with open('faculty.csv', 'r') as csv_file:\n",
    "        csv_reader = csv.reader(csv_file)\n",
    "        \n",
    "        next(csv_reader)\n",
    "        my_list1 = []\n",
    "        my_list2 = []\n",
    "        domains = []\n",
    "    \n",
    "        for line in csv_reader:\n",
    "            for line2 in re.findall('@.*',line[3]):\n",
    "                my_list1.append(line2)\n",
    "        \n",
    "        for line3 in my_list1:\n",
    "            my_list2.append(line3.replace('@',''))\n",
    "        domains = Counter(my_list2)\n",
    "        return domains.keys()\n",
    "\n",
    "unique_domains('faculty.csv')"
   ]
  },
  {
   "cell_type": "code",
   "execution_count": 19,
   "metadata": {},
   "outputs": [
    {
     "name": "stdout",
     "output_type": "stream",
     "text": [
      "[' email', 'bellamys@mail.med.upenn.edu', 'warren@upenn.edu', 'bryanma@upenn.edu', 'jinboche@upenn.edu', 'sellenbe@upenn.edu', 'jellenbe@mail.med.upenn.edu', 'ruifeng@upenn.edu', 'bcfrench@mail.med.upenn.edu', 'pgimotty@upenn.edu', 'wguo@mail.med.upenn.edu', 'hsu9@mail.med.upenn.edu', 'rhubb@mail.med.upenn.edu', 'whwang@mail.med.upenn.edu', 'mjoffe@mail.med.upenn.edu', 'jrlandis@mail.med.upenn.edu', 'liy3@email.chop.edu', 'mingyao@mail.med.upenn.edu', 'hongzhe@upenn.edu', 'rlocalio@upenn.edu', 'nanditam@mail.med.upenn.edu', 'knashawn@mail.med.upenn.edu', 'propert@mail.med.upenn.edu', 'mputt@mail.med.upenn.edu', 'sratclif@upenn.edu', 'michross@upenn.edu', 'jaroy@mail.med.upenn.edu', 'msammel@cceb.med.upenn.edu', 'shawp@upenn.edu', 'rshi@mail.med.upenn.edu', 'hshou@mail.med.upenn.edu', 'jshults@mail.med.upenn.edu', 'alisaste@mail.med.upenn.edu', 'atroxel@mail.med.upenn.edu', 'rxiao@mail.med.upenn.edu', 'sxie@mail.med.upenn.edu', 'dxie@upenn.edu', 'weiyang@mail.med.upenn.edu']\n"
     ]
    }
   ],
   "source": [
    "import csv\n",
    "\n",
    "with open('faculty.csv', 'r') as csv_file:\n",
    "    csv_reader = csv.reader(csv_file)\n",
    "        \n",
    "    my_list1 = []\n",
    "    \n",
    "    #next(csv_reader)\n",
    "    for line in csv_reader:\n",
    "        my_list1.append(line[3])\n",
    "        #print(line[3])\n",
    "    print(my_list1)"
   ]
  },
  {
   "cell_type": "code",
   "execution_count": 22,
   "metadata": {},
   "outputs": [
    {
     "name": "stdout",
     "output_type": "stream",
     "text": [
      "dict_keys(['mail.med.upenn.edu', 'upenn.edu', 'email.chop.edu', 'cceb.med.upenn.edu'])\n"
     ]
    }
   ],
   "source": [
    "import csv\n",
    "import re\n",
    "from collections import Counter\n",
    "\n",
    "with open('faculty.csv', 'r') as csv_file:\n",
    "    csv_reader = csv.reader(csv_file)\n",
    "\n",
    "    my_list1 = []\n",
    "    my_list2 = []\n",
    "    domains = []\n",
    "    \n",
    "    for line in csv_reader:\n",
    "        for line2 in re.findall('@.*',line[3]):\n",
    "            my_list1.append(line2)\n",
    "        \n",
    "    for line3 in my_list1:\n",
    "        my_list2.append(line3.replace('@',''))\n",
    "\n",
    "    domains = Counter(my_list2)\n",
    "\n",
    "print(domains.keys())"
   ]
  },
  {
   "cell_type": "code",
   "execution_count": 43,
   "metadata": {},
   "outputs": [],
   "source": [
    "my_list = zip(['bellamys@mail.med.upenn.edu', 'warren@upenn.edu', 'jinboche@upenn.edu', 'sellenbe@upenn.edu'])\n",
    "\n",
    "#print(my_list)\n",
    "\n",
    "def write_to_csv(list_of_emails):\n",
    "    with open('email.csv','w') as file:\n",
    "        writer = csv.writer(file)\n",
    "        writer.writerow(['email_list'])\n",
    "        for line in my_list:\n",
    "            writer.writerow(line)\n",
    "\n",
    "write_to_csv(my_list)"
   ]
  },
  {
   "cell_type": "code",
   "execution_count": 17,
   "metadata": {
    "scrolled": true
   },
   "outputs": [
    {
     "name": "stdout",
     "output_type": "stream",
     "text": [
      "{'Scarlett L. Bellamy': [' Sc.D.', 'Associate Professor of Biostatistics', 'bellamys@mail.med.upenn.edu'], 'Warren B. Bilker': ['Ph.D.', 'Professor of Biostatistics', 'warren@upenn.edu'], 'Matthew W Bryan': [' PhD', 'Assistant Professor of Biostatistics', 'bryanma@upenn.edu'], 'Jinbo Chen': [' Ph.D.', 'Associate Professor of Biostatistics', 'jinboche@upenn.edu'], 'Susan S Ellenberg': [' Ph.D.', 'Professor of Biostatistics', 'sellenbe@upenn.edu'], 'Jonas H. Ellenberg': [' Ph.D.', 'Professor of Biostatistics', 'jellenbe@mail.med.upenn.edu'], 'Rui Feng': [' Ph.D', 'Assistant Professor of Biostatistics', 'ruifeng@upenn.edu'], 'Benjamin C. French': [' PhD', 'Associate Professor of Biostatistics', 'bcfrench@mail.med.upenn.edu'], 'Phyllis A. Gimotty': [' Ph.D', 'Professor of Biostatistics', 'pgimotty@upenn.edu'], 'Wensheng Guo': [' Ph.D', 'Professor of Biostatistics', 'wguo@mail.med.upenn.edu'], 'Yenchih Hsu': [' Ph.D.', 'Assistant Professor of Biostatistics', 'hsu9@mail.med.upenn.edu'], 'Rebecca A Hubbard': [' PhD', 'Associate Professor of Biostatistics', 'rhubb@mail.med.upenn.edu'], 'Wei-Ting Hwang': [' Ph.D.', 'Associate Professor of Biostatistics', 'whwang@mail.med.upenn.edu'], 'Marshall M. Joffe': [' MD MPH Ph.D', 'Professor of Biostatistics', 'mjoffe@mail.med.upenn.edu'], 'J. Richard Landis': [' B.S.Ed. M.S. Ph.D.', 'Professor of Biostatistics', 'jrlandis@mail.med.upenn.edu'], 'Yimei Li': [' Ph.D.', 'Assistant Professor of Biostatistics', 'liy3@email.chop.edu'], 'Mingyao Li': [' Ph.D.', 'Associate Professor of Biostatistics', 'mingyao@mail.med.upenn.edu'], 'Hongzhe Li': [' Ph.D', 'Professor of Biostatistics', 'hongzhe@upenn.edu'], 'A. Russell Localio': [' JD MA MPH MS PhD', 'Associate Professor of Biostatistics', 'rlocalio@upenn.edu'], 'Nandita Mitra': [' Ph.D.', 'Associate Professor of Biostatistics', 'nanditam@mail.med.upenn.edu'], 'Knashawn H. Morales': [' Sc.D.', 'Associate Professor of Biostatistics', 'knashawn@mail.med.upenn.edu'], 'Kathleen Joy Propert': [' Sc.D.', 'Professor of Biostatistics', 'propert@mail.med.upenn.edu'], 'Mary E. Putt': [' PhD ScD', 'Professor of Biostatistics', 'mputt@mail.med.upenn.edu'], 'Sarah Jane Ratcliffe': [' Ph.D.', 'Associate Professor of Biostatistics', 'sratclif@upenn.edu'], 'Michelle Elana Ross': [' PhD', 'Assistant Professor is Biostatistics', 'michross@upenn.edu'], 'Jason A. Roy': [' Ph.D.', 'Associate Professor of Biostatistics', 'jaroy@mail.med.upenn.edu'], 'Mary D. Sammel': [' Sc.D.', 'Professor of Biostatistics', 'msammel@cceb.med.upenn.edu'], 'Pamela Ann Shaw': [' PhD', 'Assistant Professor of Biostatistics', 'shawp@upenn.edu'], 'Russell Takeshi Shinohara': ['0', 'Assistant Professor of Biostatistics', 'rshi@mail.med.upenn.edu'], 'Haochang Shou': [' Ph.D.', 'Assistant Professor of Biostatistics', 'hshou@mail.med.upenn.edu'], 'Justine Shults': [' Ph.D.', 'Professor of Biostatistics', 'jshults@mail.med.upenn.edu'], 'Alisa Jane Stephens': [' Ph.D.', 'Assistant Professor of Biostatistics', 'alisaste@mail.med.upenn.edu'], 'Andrea Beth Troxel': [' ScD', 'Professor of Biostatistics', 'atroxel@mail.med.upenn.edu'], 'Rui Xiao': [' PhD', 'Assistant Professor of Biostatistics', 'rxiao@mail.med.upenn.edu'], 'Sharon Xiangwen Xie': [' Ph.D.', 'Associate Professor of Biostatistics', 'sxie@mail.med.upenn.edu'], 'Dawei Xie': [' PhD', 'Assistant Professor of Biostatistics', 'dxie@upenn.edu'], 'Wei (Peter) Yang': [' Ph.D.', 'Assistant Professor of Biostatistics', 'weiyang@mail.med.upenn.edu']}\n"
     ]
    }
   ],
   "source": [
    "import csv\n",
    "import re\n",
    "\n",
    "with open('faculty.csv', 'r') as csv_file:\n",
    "        csv_reader = csv.reader(csv_file)\n",
    "        \n",
    "        next(csv_reader)\n",
    "        dict_1 = {}\n",
    "        \n",
    "        for line in csv_reader:\n",
    "            key = line[0]\n",
    "            dict_1[key] = line[1:]\n",
    "print(dict_1)"
   ]
  },
  {
   "cell_type": "code",
   "execution_count": 24,
   "metadata": {},
   "outputs": [
    {
     "data": {
      "text/plain": [
       "{'Scarlett L. Bellamy': [' Sc.D.',\n",
       "  'Associate Professor of Biostatistics',\n",
       "  'bellamys@mail.med.upenn.edu'],\n",
       " 'Warren B. Bilker': ['Ph.D.',\n",
       "  'Professor of Biostatistics',\n",
       "  'warren@upenn.edu'],\n",
       " 'Matthew W Bryan': [' PhD',\n",
       "  'Assistant Professor of Biostatistics',\n",
       "  'bryanma@upenn.edu'],\n",
       " 'Jinbo Chen': [' Ph.D.',\n",
       "  'Associate Professor of Biostatistics',\n",
       "  'jinboche@upenn.edu'],\n",
       " 'Susan S Ellenberg': [' Ph.D.',\n",
       "  'Professor of Biostatistics',\n",
       "  'sellenbe@upenn.edu'],\n",
       " 'Jonas H. Ellenberg': [' Ph.D.',\n",
       "  'Professor of Biostatistics',\n",
       "  'jellenbe@mail.med.upenn.edu'],\n",
       " 'Rui Feng': [' Ph.D',\n",
       "  'Assistant Professor of Biostatistics',\n",
       "  'ruifeng@upenn.edu'],\n",
       " 'Benjamin C. French': [' PhD',\n",
       "  'Associate Professor of Biostatistics',\n",
       "  'bcfrench@mail.med.upenn.edu'],\n",
       " 'Phyllis A. Gimotty': [' Ph.D',\n",
       "  'Professor of Biostatistics',\n",
       "  'pgimotty@upenn.edu'],\n",
       " 'Wensheng Guo': [' Ph.D',\n",
       "  'Professor of Biostatistics',\n",
       "  'wguo@mail.med.upenn.edu'],\n",
       " 'Yenchih Hsu': [' Ph.D.',\n",
       "  'Assistant Professor of Biostatistics',\n",
       "  'hsu9@mail.med.upenn.edu'],\n",
       " 'Rebecca A Hubbard': [' PhD',\n",
       "  'Associate Professor of Biostatistics',\n",
       "  'rhubb@mail.med.upenn.edu'],\n",
       " 'Wei-Ting Hwang': [' Ph.D.',\n",
       "  'Associate Professor of Biostatistics',\n",
       "  'whwang@mail.med.upenn.edu'],\n",
       " 'Marshall M. Joffe': [' MD MPH Ph.D',\n",
       "  'Professor of Biostatistics',\n",
       "  'mjoffe@mail.med.upenn.edu'],\n",
       " 'J. Richard Landis': [' B.S.Ed. M.S. Ph.D.',\n",
       "  'Professor of Biostatistics',\n",
       "  'jrlandis@mail.med.upenn.edu'],\n",
       " 'Yimei Li': [' Ph.D.',\n",
       "  'Assistant Professor of Biostatistics',\n",
       "  'liy3@email.chop.edu'],\n",
       " 'Mingyao Li': [' Ph.D.',\n",
       "  'Associate Professor of Biostatistics',\n",
       "  'mingyao@mail.med.upenn.edu'],\n",
       " 'Hongzhe Li': [' Ph.D', 'Professor of Biostatistics', 'hongzhe@upenn.edu'],\n",
       " 'A. Russell Localio': [' JD MA MPH MS PhD',\n",
       "  'Associate Professor of Biostatistics',\n",
       "  'rlocalio@upenn.edu'],\n",
       " 'Nandita Mitra': [' Ph.D.',\n",
       "  'Associate Professor of Biostatistics',\n",
       "  'nanditam@mail.med.upenn.edu'],\n",
       " 'Knashawn H. Morales': [' Sc.D.',\n",
       "  'Associate Professor of Biostatistics',\n",
       "  'knashawn@mail.med.upenn.edu'],\n",
       " 'Kathleen Joy Propert': [' Sc.D.',\n",
       "  'Professor of Biostatistics',\n",
       "  'propert@mail.med.upenn.edu'],\n",
       " 'Mary E. Putt': [' PhD ScD',\n",
       "  'Professor of Biostatistics',\n",
       "  'mputt@mail.med.upenn.edu'],\n",
       " 'Sarah Jane Ratcliffe': [' Ph.D.',\n",
       "  'Associate Professor of Biostatistics',\n",
       "  'sratclif@upenn.edu'],\n",
       " 'Michelle Elana Ross': [' PhD',\n",
       "  'Assistant Professor is Biostatistics',\n",
       "  'michross@upenn.edu'],\n",
       " 'Jason A. Roy': [' Ph.D.',\n",
       "  'Associate Professor of Biostatistics',\n",
       "  'jaroy@mail.med.upenn.edu'],\n",
       " 'Mary D. Sammel': [' Sc.D.',\n",
       "  'Professor of Biostatistics',\n",
       "  'msammel@cceb.med.upenn.edu'],\n",
       " 'Pamela Ann Shaw': [' PhD',\n",
       "  'Assistant Professor of Biostatistics',\n",
       "  'shawp@upenn.edu'],\n",
       " 'Russell Takeshi Shinohara': ['0',\n",
       "  'Assistant Professor of Biostatistics',\n",
       "  'rshi@mail.med.upenn.edu'],\n",
       " 'Haochang Shou': [' Ph.D.',\n",
       "  'Assistant Professor of Biostatistics',\n",
       "  'hshou@mail.med.upenn.edu'],\n",
       " 'Justine Shults': [' Ph.D.',\n",
       "  'Professor of Biostatistics',\n",
       "  'jshults@mail.med.upenn.edu'],\n",
       " 'Alisa Jane Stephens': [' Ph.D.',\n",
       "  'Assistant Professor of Biostatistics',\n",
       "  'alisaste@mail.med.upenn.edu'],\n",
       " 'Andrea Beth Troxel': [' ScD',\n",
       "  'Professor of Biostatistics',\n",
       "  'atroxel@mail.med.upenn.edu'],\n",
       " 'Rui Xiao': [' PhD',\n",
       "  'Assistant Professor of Biostatistics',\n",
       "  'rxiao@mail.med.upenn.edu'],\n",
       " 'Sharon Xiangwen Xie': [' Ph.D.',\n",
       "  'Associate Professor of Biostatistics',\n",
       "  'sxie@mail.med.upenn.edu'],\n",
       " 'Dawei Xie': [' PhD',\n",
       "  'Assistant Professor of Biostatistics',\n",
       "  'dxie@upenn.edu'],\n",
       " 'Wei (Peter) Yang': [' Ph.D.',\n",
       "  'Assistant Professor of Biostatistics',\n",
       "  'weiyang@mail.med.upenn.edu']}"
      ]
     },
     "execution_count": 24,
     "metadata": {},
     "output_type": "execute_result"
    }
   ],
   "source": [
    "import csv\n",
    "import re\n",
    "\n",
    "def get_dict():\n",
    "    with open('faculty.csv', 'r') as csv_file:\n",
    "        csv_reader = csv.reader(csv_file)\n",
    "        \n",
    "        next(csv_reader)\n",
    "        dict_1 = {}\n",
    "        \n",
    "        for line in csv_reader:\n",
    "            key = line[0]\n",
    "            dict_1[key] = line[1:]\n",
    "        return dict_1\n",
    "get_dict()"
   ]
  },
  {
   "cell_type": "code",
   "execution_count": 104,
   "metadata": {},
   "outputs": [
    {
     "name": "stdout",
     "output_type": "stream",
     "text": [
      "['Scarlett,L.,Bellamy', 'Warren,B.,Bilker', 'Matthew,W,Bryan', 'Jinbo,Chen', 'Susan,S,Ellenberg', 'Jonas,H.,Ellenberg', 'Rui,Feng', 'Benjamin,C.,French', 'Phyllis,A.,Gimotty', 'Wensheng,Guo', 'Yenchih,Hsu', 'Rebecca,A,Hubbard', 'Wei-Ting,Hwang', 'Marshall,M.,Joffe', 'J.,Richard,Landis', 'Yimei,Li', 'Mingyao,Li', 'Hongzhe,Li', 'A.,Russell,Localio', 'Nandita,Mitra', 'Knashawn,H.,Morales', 'Kathleen,Joy,Propert', 'Mary,E.,Putt', 'Sarah,Jane,Ratcliffe', 'Michelle,Elana,Ross', 'Jason,A.,Roy', 'Mary,D.,Sammel', 'Pamela,Ann,Shaw', 'Russell,Takeshi,Shinohara', 'Haochang,Shou', 'Justine,Shults', 'Alisa,Jane,Stephens', 'Andrea,Beth,Troxel', 'Rui,Xiao', 'Sharon,Xiangwen,Xie', 'Dawei,Xie', 'Wei,(Peter),Yang']\n"
     ]
    }
   ],
   "source": [
    "import csv \n",
    "import re\n",
    "with open('faculty.csv', 'r') as csv_file:\n",
    "    csv_reader = csv.reader(csv_file)\n",
    "        \n",
    "    next(csv_reader)\n",
    "    my_list1 = []\n",
    "        \n",
    "    for line in csv_reader:\n",
    "        my_list1.append(re.sub('\\s+', ',',line[0]))\n",
    "         \n",
    "print(my_list1)\n",
    "\n",
    "    \n",
    "    \n",
    "    \n",
    "       \n",
    "    \n",
    "                "
   ]
  },
  {
   "cell_type": "code",
   "execution_count": 100,
   "metadata": {},
   "outputs": [
    {
     "name": "stdout",
     "output_type": "stream",
     "text": [
      "Scarlett,L.,Bellamy\n"
     ]
    }
   ],
   "source": [
    "import re\n",
    "print(re.sub('\\s+', ',', 'Scarlett L. Bellamy'))"
   ]
  },
  {
   "cell_type": "code",
   "execution_count": null,
   "metadata": {},
   "outputs": [],
   "source": []
  }
 ],
 "metadata": {
  "kernelspec": {
   "display_name": "Python 3",
   "language": "python",
   "name": "python3"
  },
  "language_info": {
   "codemirror_mode": {
    "name": "ipython",
    "version": 3
   },
   "file_extension": ".py",
   "mimetype": "text/x-python",
   "name": "python",
   "nbconvert_exporter": "python",
   "pygments_lexer": "ipython3",
   "version": "3.6.5"
  }
 },
 "nbformat": 4,
 "nbformat_minor": 2
}
