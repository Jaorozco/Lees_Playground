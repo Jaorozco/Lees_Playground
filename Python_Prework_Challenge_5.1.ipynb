{
 "cells": [
  {
   "cell_type": "markdown",
   "metadata": {},
   "source": [
    "1. Which indentation is preferred?\n",
    "Sapces  \n",
    "\n",
    "2. What is the standard number of of spaces for indenting in Python?\n",
    "Four. \n",
    "\n",
    "3. What is the maximum line length for coding?\n",
    "79. \n",
    "\n",
    "4. Where should \"import\" statements be placed in a coding file?\n",
    "At the beginning of the file. \n",
    "\n",
    "5. Which is preferred for string quotes?\n",
    "In Python, single-quoted string and double quoted strings are the same. The PEP does not make a recommendation for this. Pick a rule and stick to it. \n",
    "\n",
    "6. How are Python Lists and tuples similar?\n",
    "Each value in a tuple and list are valued starting from 0 (in other words indexing). \n",
    "Can create nested tuples and nested lists. \n",
    "Tuple is similar to a constant list (where lists are not changed). \n",
    "\n",
    "7. How are Python Lists and Tuples different?\n",
    "Lists are mutable. Tuples are not mutable (i.e. it cannot be changed). \n",
    "Packing and Unpacking can be done in Tuples but not in List. \n",
    "\n",
    "8. Which will work as keys in dictionaries?\n",
    "Tuples. \n",
    "\n",
    "9. Explain why this structure (lists or tuples) will work as keys in dictionaries?  \n",
    "Tuples are immutable, therefore when making an update, append etc to a dictionary we can use a key to do so. Please see example below: \n",
    "\n",
    "#Assigning super villains to either Marvel or DC\n",
    "\n",
    "comic = {\"DC\":\"JOKER\", \"MARVEL\":\"THANOS\",}\n",
    "print(comic)\n",
    "#changing Joker using the 'DC' key\n",
    "\n",
    "comic[\"DC\"] = \"DOOMSDAY\"\n",
    "print(comic)\n",
    "\n",
    "10. How are Python lists and sets similar?\n",
    "Both are mutable. \n",
    "Separated by a comma. \n",
    "\n",
    "11.  How are Python Lists and Sets different?\n",
    "Lists can store allow duplicate records. Sets do not. \n",
    "Lists are ordered and indexed. Sets are unordered and nor indexed. \n",
    "\n",
    "12. How does performance compare between lists and sets for finding an element?"
   ]
  },
  {
   "cell_type": "markdown",
   "metadata": {},
   "source": [
    "**14. Write a Python Lambda Function which takes a list called my_list and returns a list which includes only even numbers, in the same order?**"
   ]
  },
  {
   "cell_type": "code",
   "execution_count": 257,
   "metadata": {},
   "outputs": [
    {
     "data": {
      "text/plain": [
       "<function __main__.<lambda>(my_list)>"
      ]
     },
     "execution_count": 257,
     "metadata": {},
     "output_type": "execute_result"
    }
   ],
   "source": [
    "\n",
    "my_list = [3,4,7,2,9,170]\n",
    "f = lambda my_list: filter(lambda x: x%2 == 0,my_list)\n",
    "#f = list(filter(lambda num: num%2 == 0,my_list))\n",
    "f\n",
    "\n"
   ]
  },
  {
   "cell_type": "markdown",
   "metadata": {},
   "source": [
    "**15. Use 'map' to return a list called \"items_squared\" which is the square of each item in items_list**"
   ]
  },
  {
   "cell_type": "code",
   "execution_count": 2,
   "metadata": {},
   "outputs": [
    {
     "data": {
      "text/plain": [
       "[1, 4, 9, 16, 25]"
      ]
     },
     "execution_count": 2,
     "metadata": {},
     "output_type": "execute_result"
    }
   ],
   "source": [
    "def squared(num):\n",
    "    return num ** 2\n",
    "\n",
    "items_list = [1,2,3,4,5]\n",
    "items_squared = list(map(squared,items_list))\n",
    "items_squared"
   ]
  },
  {
   "cell_type": "markdown",
   "metadata": {},
   "source": [
    "**16. Use \"filter\" to return a list called \"tens_list\" which includes all items in xlist that are divisible by 10**"
   ]
  },
  {
   "cell_type": "code",
   "execution_count": 35,
   "metadata": {},
   "outputs": [
    {
     "name": "stdout",
     "output_type": "stream",
     "text": [
      "[0, 10, 20, 30, 40, 50, 100]\n"
     ]
    }
   ],
   "source": [
    "xlist = [0, 5, 10, 15, 20, 25, 30, 35, 40, 45, 50, 75,100]\n",
    "\n",
    "tens_list = list(filter(lambda num: num%10 == 0, xlist))\n",
    "\n",
    "print(tens_list)"
   ]
  },
  {
   "cell_type": "markdown",
   "metadata": {},
   "source": [
    "**17. Write a function that computes the difference, in days, between two given dates.\n",
    "Dates given will be strings. You can assume dates are given in '%m-%d-%Y' format, and the first date is less than or equal to the second date.** \n",
    "\n",
    "**Example:\n",
    "date_start = '01-02-2013'\n",
    "date_stop = '-01-03-2013'**\n",
    "\n",
    "**print (difference_in_days(date_start, date_stop)**\n",
    "**>>>1**"
   ]
  },
  {
   "cell_type": "code",
   "execution_count": 132,
   "metadata": {},
   "outputs": [
    {
     "data": {
      "text/plain": [
       "1"
      ]
     },
     "execution_count": 132,
     "metadata": {},
     "output_type": "execute_result"
    }
   ],
   "source": [
    "import sys\n",
    "import os\n",
    "from datetime import datetime\n",
    "\n",
    "\n",
    "def difference_in_days(date1, date2):\n",
    "    date_start = datetime.strptime(date1, '%m-%d-%Y')\n",
    "    date_stop = datetime.strptime(date2, '%m-%d-%Y')\n",
    "    return (date_stop - date_start).days\n",
    "\n",
    "date_start = '01-02-2013'\n",
    "date_stop = '01-03-2013'\n",
    "\n",
    "\n",
    "difference_in_days(date_start, date_stop)"
   ]
  },
  {
   "cell_type": "markdown",
   "metadata": {},
   "source": [
    "**18. Write a one-list comprehension which produces a list of Fahrenheit values given a variable called \"celius\"**"
   ]
  },
  {
   "cell_type": "code",
   "execution_count": 60,
   "metadata": {},
   "outputs": [
    {
     "name": "stdout",
     "output_type": "stream",
     "text": [
      "[102.56, 97.7, 99.14, 32.0, 68.0]\n"
     ]
    }
   ],
   "source": [
    "celsius = [39.2, 36.5, 37.3, 0, 20]\n",
    "# write your answer in one line. use a list comprehension. use the variable \"celsius\"\n",
    "fahrenheit = list(map(lambda temp: float(9/5)*temp + 32, celsius))\n",
    "print(fahrenheit)"
   ]
  },
  {
   "cell_type": "code",
   "execution_count": 4,
   "metadata": {},
   "outputs": [
    {
     "name": "stdout",
     "output_type": "stream",
     "text": [
      "Please enter number of Donuts: 33\n",
      "Number of donuts: many\n"
     ]
    }
   ],
   "source": [
    "donuts = int(input(\"Please enter number of Donuts: \"))\n",
    "\n",
    "if donuts >=1 and donuts <= 10:\n",
    "    print (f\"Number of donuts: {donuts}\")\n",
    "elif donuts > 9:\n",
    "    print (\"Number of donuts: many\")\n",
    "else:\n",
    "    print(\"None\")\n",
    "\n",
    "#print(donuts)"
   ]
  },
  {
   "cell_type": "markdown",
   "metadata": {},
   "source": [
    "**19. Given an int count of a number of donuts, write a function \"donuts\" that returns a string of the form 'Number of donuts: '{counts}'where {count} is the number passed in. However, if the count is 10 or more, then use the work 'many' instead of actual count**"
   ]
  },
  {
   "cell_type": "code",
   "execution_count": 71,
   "metadata": {},
   "outputs": [
    {
     "data": {
      "text/plain": [
       "''"
      ]
     },
     "execution_count": 71,
     "metadata": {},
     "output_type": "execute_result"
    }
   ],
   "source": [
    "def donuts(count):\n",
    "    if count >=1 and count < 10:\n",
    "        return (\"Number of donuts: {}\" .format(count))\n",
    "    elif count > 9:\n",
    "        return \"Number of donuts: many\"\n",
    "    else:\n",
    "        return ''\n",
    "\n",
    "donuts(0)"
   ]
  },
  {
   "cell_type": "code",
   "execution_count": 94,
   "metadata": {},
   "outputs": [
    {
     "name": "stdout",
     "output_type": "stream",
     "text": [
      "\n",
      "0:00:00.000068\n",
      "\n",
      "0:00:00.001168\n",
      "\n",
      "0:00:00.000031\n"
     ]
    }
   ],
   "source": [
    "#Testing performance list vs tuple vs set\n",
    "\n",
    "from datetime import datetime\n",
    "listA = range(10000000)\n",
    "setA = set(listA)\n",
    "tupA = tuple(listA)\n",
    " \n",
    "def calc(data, type):\n",
    "    start = datetime.now()\n",
    "    if data in type:\n",
    "        print (\"\")\n",
    "    end = datetime.now()\n",
    "    print (end-start)\n",
    " \n",
    "calc(99999, listA)\n",
    "calc(99999, tupA)\n",
    "calc(99999, setA)"
   ]
  },
  {
   "cell_type": "markdown",
   "metadata": {},
   "source": [
    "**20. Write a function \"both_ends that, given a string s, returns a string made of the first 2 and the last 2 chars of the original string, so 'spring' yields 'spng'. However, if the string length is less than 2, return the empty string. \"**\n",
    "\n",
    "**>>>both_ends('spring')**  \n",
    "**'spng'**  \n",
    "\n",
    "**both_ends('Hello')**   \n",
    "**>>>'Helo'**  \n",
    "\n",
    "**both_ends('a)**  \n",
    "**>>>''**  \n",
    "\n",
    "**both_ends('xyz')**  \n",
    "**>>>'xyyz'**   "
   ]
  },
  {
   "cell_type": "code",
   "execution_count": 15,
   "metadata": {},
   "outputs": [
    {
     "data": {
      "text/plain": [
       "'spng'"
      ]
     },
     "execution_count": 15,
     "metadata": {},
     "output_type": "execute_result"
    }
   ],
   "source": [
    "#s = input(\"Please enter a letter: \")\n",
    "def both_ends(s):\n",
    "    if len(s) > 2:\n",
    "        return s[0:2]+s[-2:]\n",
    "    else:\n",
    "        return \"''\"\n",
    "\n",
    "both_ends(\"spring\")"
   ]
  },
  {
   "cell_type": "markdown",
   "metadata": {},
   "source": [
    "**21. Write a function \"fix_start\" that, given a string s, returns a string where all occurences of its first char have been changed to \\* (asteriks), except do not change the first char itself. e.g. 'babble' yields  ba\\*\\*le. Assume the string in length 1 or more.**"
   ]
  },
  {
   "cell_type": "code",
   "execution_count": 65,
   "metadata": {},
   "outputs": [
    {
     "name": "stdout",
     "output_type": "stream",
     "text": [
      "b\n"
     ]
    }
   ],
   "source": [
    "s = 'babble'\n",
    "#if s[0] == s[5]:\n",
    "#    print(\"True\")\n",
    "#else:\n",
    "#    print(\"False\")\n",
    "s1 = (s[0:1]) \n",
    "print(s1)"
   ]
  },
  {
   "cell_type": "code",
   "execution_count": 16,
   "metadata": {},
   "outputs": [
    {
     "data": {
      "text/plain": [
       "'donut'"
      ]
     },
     "execution_count": 16,
     "metadata": {},
     "output_type": "execute_result"
    }
   ],
   "source": [
    "def fix_start(s):\n",
    "    if len(s) < 2:\n",
    "        print(\"''\")\n",
    "    else:\n",
    "        test =  s[0]+s[1:].replace(s[0],'*')\n",
    "        return test\n",
    "    \n",
    "fix_start(\"donut\")"
   ]
  },
  {
   "cell_type": "markdown",
   "metadata": {},
   "source": [
    "**22. Write a function \"mix_up\", that, given strings a and b, returns a single string with a and b separated by a space\"(a)(b)\", except swaps the first 2 chars of each string. Assume a and b are length or more.\n",
    "\n",
    "**>>>mix_up('mix','pod')  \n",
    "'pox mid'. **  \n",
    "\n",
    "**>>>mix_up('dog','dinner').  \n",
    "'dig' 'donner'  \n",
    "\n",
    "**>>>mix_up('gnash','sport')  \n",
    "'spash' 'gnort'  \n",
    "\n",
    "**>>>mix_up('pezzy','firm')  \n",
    "'fizzy' 'perm'  "
   ]
  },
  {
   "cell_type": "code",
   "execution_count": 134,
   "metadata": {},
   "outputs": [
    {
     "name": "stdout",
     "output_type": "stream",
     "text": [
      "fizzy perm\n"
     ]
    }
   ],
   "source": [
    "a = 'pezzy'\n",
    "b = 'firm'\n",
    "\n",
    "print(b[0:2]+a[2:] + ' ' + a[0:2]+b[2:])\n",
    "#print(a[-1:])"
   ]
  },
  {
   "cell_type": "code",
   "execution_count": 197,
   "metadata": {},
   "outputs": [
    {
     "data": {
      "text/plain": [
       "'fizzy perm'"
      ]
     },
     "execution_count": 197,
     "metadata": {},
     "output_type": "execute_result"
    }
   ],
   "source": [
    "def mix_up(a,b):\n",
    "    return b[0:2]+a[2:] + ' ' + a[0:2]+b[2:]\n",
    "\n",
    "mix_up(\"pezzy\",\"firm\")\n"
   ]
  },
  {
   "cell_type": "markdown",
   "metadata": {},
   "source": [
    "**23. Write a function \"verbing\" that does the following:  \n",
    "GIven a string, if its length is at least 3, add 'ing' to its end.  \n",
    "Unless it already it ends in 'ing' in which case add 'ly' instead. \n",
    "If the string length is less than 3, leave it unchanged. Return  \n",
    "the resulting string. Assume lower case input. **\n",
    "\n",
    "**>>>verbing('hail')\n",
    "'hailing'  **\n",
    "\n",
    "**>>>verbing('swimming')  \n",
    "'swimingly' ** \n",
    "\n",
    "**>>>verbing('do')  \n",
    "'do'"
   ]
  },
  {
   "cell_type": "code",
   "execution_count": 193,
   "metadata": {},
   "outputs": [
    {
     "name": "stdout",
     "output_type": "stream",
     "text": [
      "swimingly\n"
     ]
    }
   ],
   "source": [
    "s = 'swiming'\n",
    "\n",
    "if s[-3:] == 'ing':\n",
    "    print(s.lower() + 'ly')\n",
    "else:\n",
    "    print(s[0:].lower() + 'ing')\n",
    "\n",
    "#print(s[0:].lower() + 'ing')\n",
    "#print(s[-3:])\n",
    "#print(len(s))"
   ]
  },
  {
   "cell_type": "code",
   "execution_count": 198,
   "metadata": {},
   "outputs": [
    {
     "data": {
      "text/plain": [
       "'hailing'"
      ]
     },
     "execution_count": 198,
     "metadata": {},
     "output_type": "execute_result"
    }
   ],
   "source": [
    "def verbing(s):\n",
    "    if len(s) < 3:\n",
    "        return s[0:]\n",
    "    elif s[-3:] == 'ing':\n",
    "        return s.lower() + 'ly'\n",
    "    else:\n",
    "        return s[0:].lower() + 'ing'\n",
    "       \n",
    "\n",
    "verbing(\"hail\")        "
   ]
  },
  {
   "cell_type": "markdown",
   "metadata": {},
   "source": [
    "**24. Write a function \"not_bad\" that does the following**    \n",
    "\n",
    "**Given a string find the first appearance of the substring 'not'  \n",
    "and 'bad'. If the 'bad' follows the 'not', replace the whole  \n",
    "'not...'bad' substring with 'good'. Return the resulting string  \n",
    "So 'This dinner is not bad' This dinner is good  **\n",
    "\n",
    "**>>>not_bad('This movie is not so bad')\n",
    "'This movie is good. **\n",
    "\n",
    "**not_bad('This dinner is not bad')**  \n",
    "**>>>This dinner is good**   \n",
    "\n",
    "**not_bad('This tea is not hot')**  \n",
    "**>>>This tea is not hot**  \n",
    "\n",
    "**not_bad('It's bad yet not\")**  \n",
    "**>>>It's bad yet not**  "
   ]
  },
  {
   "cell_type": "code",
   "execution_count": 276,
   "metadata": {},
   "outputs": [
    {
     "data": {
      "text/plain": [
       "'This dinner is good'"
      ]
     },
     "execution_count": 276,
     "metadata": {},
     "output_type": "execute_result"
    }
   ],
   "source": [
    "def not_bad(s):\n",
    "    n = s.find('not')\n",
    "    b = s.find('bad')\n",
    "    if b > n:\n",
    "        return s.replace(s[n:b + 3], 'good')\n",
    "    else:\n",
    "        return s\n",
    "not_bad(\"This dinner is not bad\")"
   ]
  },
  {
   "cell_type": "code",
   "execution_count": 316,
   "metadata": {},
   "outputs": [
    {
     "data": {
      "text/plain": [
       "'not '"
      ]
     },
     "execution_count": 316,
     "metadata": {},
     "output_type": "execute_result"
    }
   ],
   "source": [
    "def wn(s):  \n",
    "    n= s.find('not')  \n",
    "    b = s.find('bad')  \n",
    "    return s[n:b]  \n",
    "wn(\"This dinner is not bad\")  "
   ]
  },
  {
   "cell_type": "markdown",
   "metadata": {},
   "source": [
    "**25. Write a function \"front_back\" that does the following:  **\n",
    "\n",
    "**Consider dividing a string into two halves. If the length is even,  **\n",
    "**the front and back halves are ther same length. If the length is  **\n",
    "**odd, we'll say that the extra char goes in the front half e.g.**  \n",
    "**'adcde', the front half is 'abc', the back half 'de'. Given 2**  \n",
    "**strings, a and b, return a string of the form  **  \n",
    "**a-front + b-front a-back + b-back**  \n",
    "\n",
    "**>>>front_back('abcd','xy')**  \n",
    "**'abxcdy'**  \n",
    "\n",
    "**>>>front_back('abcde','xyz')**  \n",
    "**'abcxydez'**  \n",
    "\n",
    "**>>>frint_back('Kitten','Donut')**  \n",
    "**'KitDontenut'**  "
   ]
  },
  {
   "cell_type": "code",
   "execution_count": 2,
   "metadata": {},
   "outputs": [
    {
     "data": {
      "text/plain": [
       "'KitDontenut'"
      ]
     },
     "execution_count": 2,
     "metadata": {},
     "output_type": "execute_result"
    }
   ],
   "source": [
    "def front_back(s1,s2):\n",
    "    len_s1 = len(s1)\n",
    "    len_s2 = len(s2)\n",
    "    \n",
    "    if len_s1%2 == 1:\n",
    "        ind_s1 =  (len_s1 // 2) + 1\n",
    "    else:\n",
    "        ind_s1 = len_s1 // 2\n",
    "    \n",
    "    if len_s2%2 == 1:\n",
    "        ind_s2 = (len_s2 // 2) + 1\n",
    "    else:\n",
    "        ind_s2 = len_s2 // 2\n",
    "    \n",
    "    s1_front = s1[0:ind_s1]\n",
    "    s2_front = s2[0:ind_s2]\n",
    "    s1_back = s1[ind_s1:]\n",
    "    s2_back = s2[ind_s2:]\n",
    "\n",
    "    return s1_front + s2_front + s1_back + s2_back\n",
    "\n",
    "front_back(\"Kitten\", \"Donut\")"
   ]
  },
  {
   "cell_type": "markdown",
   "metadata": {},
   "source": [
    "**Q26 Write a function \"match_ends\" that does the following:**  \n",
    "\n",
    "**Given a list of strings, return the count of the number of strings**  \n",
    "**where the string length is 2 or more and the first and last characters of the strings are the same**  \n",
    "\n",
    "**>>>match_ends(\\[**'aba','xyz','aa','x','bbb'**\\])**  \n",
    "**>>>3**  \n",
    "\n",
    "**>>>match_ends(\\['','x','xy','xyx','xx'\\])**  \n",
    "**>>>2**  \n",
    "\n",
    "**>>>match_ends(\\['aaa','be','abc','hello'\\])**  \n",
    "**>>>1**  "
   ]
  },
  {
   "cell_type": "code",
   "execution_count": 48,
   "metadata": {},
   "outputs": [
    {
     "name": "stdout",
     "output_type": "stream",
     "text": [
      "3\n",
      "3\n",
      "2\n",
      "1\n",
      "3\n"
     ]
    }
   ],
   "source": [
    "strings = ['aba','xyz','aa','x','bbb']\n",
    "count = 0\n",
    "for x in strings:\n",
    "    print(len(x))\n",
    "        "
   ]
  },
  {
   "cell_type": "code",
   "execution_count": 32,
   "metadata": {},
   "outputs": [
    {
     "name": "stdout",
     "output_type": "stream",
     "text": [
      "1\n",
      "2\n",
      "3\n"
     ]
    }
   ],
   "source": [
    "s = ['aba','xyz','aa','x','bbb']\n",
    "count = 0\n",
    "for x in s:\n",
    "    if len(x) > 1 and x[0] == x[-1]:\n",
    "        count += 1\n",
    "        print(count)\n",
    "    else:\n",
    "        0"
   ]
  },
  {
   "cell_type": "code",
   "execution_count": 58,
   "metadata": {},
   "outputs": [
    {
     "data": {
      "text/plain": [
       "3"
      ]
     },
     "execution_count": 58,
     "metadata": {},
     "output_type": "execute_result"
    }
   ],
   "source": [
    "def match_ends(s):\n",
    "    count = 0\n",
    "    for x in s:\n",
    "        if len(x) > 1 and x[0] == x[-1]:\n",
    "            count += 1\n",
    "    return count\n",
    "        \n",
    "match_ends(['aba','xyz','aa','x','bb'])   "
   ]
  },
  {
   "cell_type": "markdown",
   "metadata": {},
   "source": [
    "**Q27. Write a function \"front_x\" which does the following:**  \n",
    "\n",
    "**Given a list of strings, return a list with the strings in sorted**  \n",
    "**order, except group all the strings that begin with 'x' first. Assume all lower case input**  \n",
    "\n",
    "**e.g.\\['mix','xyz','apple','xandu','aardvark'\\]**yields**   \n",
    "**'\\['xanadu','xyz','aardvark','apple','mix'\\]**  \n",
    "\n",
    "**>>>front_x(\\['bbb','ccc','axx','xzz','xaa'\\])**    \n",
    "**>>>\\['xaa','xzz','axx','bbb','ccc'\\]**    \n",
    "\n",
    "**>>>front_x(\\['ccc','bbb','aaa','xcc','xaa'\\])**   \n",
    "**>>>\\['xaa','xcc','aaa','bbb','ccc'\\]**    \n",
    "\n",
    "**>>>front_x(\\['mix','xyz','apple','xanadu','aardvark'\\])**    \n",
    "**>>>\\['xanadu','xyz','aardvark','apple','mix'\\]**   \n",
    "\n"
   ]
  },
  {
   "cell_type": "code",
   "execution_count": 52,
   "metadata": {},
   "outputs": [
    {
     "name": "stdout",
     "output_type": "stream",
     "text": [
      "['xandu', 'xyz', 'aardvark', 'apple', 'mix']\n"
     ]
    }
   ],
   "source": [
    "x = ['mix','xyz','apple','xandu','aardvark']\n",
    "list_x = []\n",
    "list_other = []\n",
    "    \n",
    "for i in x:\n",
    "    if i[0] == 'x':\n",
    "        list_x.append(i)\n",
    "    else:\n",
    "        list_other.append(i)\n",
    "            \n",
    "print(sorted(list_x) + sorted(list_other))"
   ]
  },
  {
   "cell_type": "code",
   "execution_count": 57,
   "metadata": {},
   "outputs": [
    {
     "data": {
      "text/plain": [
       "['xandu', 'xyz', 'aardvark', 'apple', 'mix']"
      ]
     },
     "execution_count": 57,
     "metadata": {},
     "output_type": "execute_result"
    }
   ],
   "source": [
    "def front_x(words):\n",
    "    list_x = []\n",
    "    list_other = []\n",
    "    for i in words:\n",
    "        if i[0] == 'x':\n",
    "            list_x.append(i)\n",
    "        else:\n",
    "            list_other.append(i)\n",
    "            \n",
    "    return sorted(list_x) + sorted(list_other)\n",
    "\n",
    "front_x(['mix','xyz','apple','xandu','aardvark'])   "
   ]
  },
  {
   "cell_type": "markdown",
   "metadata": {},
   "source": [
    "**Q28. Write a function \"sort_last\" that does the following:**  \n",
    "\n",
    "**Given a list of non-empty tuples, return a list sorted in**  \n",
    "**increasing order by the last element in each tuple.**  \n",
    "**e.g.\\[(1,7),(1,3),(3,4,5),(2,2)\\] yields**  \n",
    "      **\\[(2,2),(1,3),(3,4,5),(1,7)\\].**  \n",
    "      \n",
    "**>>>sort_last(\\[(1,3),(3,2),(2,1)\\]**  \n",
    "**\\[(2,1),(2,3),(1,3)\\]**  \n",
    "**>>>sort_last(\\[(2,3),(1,2),(3,1)\\])**  \n",
    "**\\[(3, 1), (1, 2), (2, 3)\\]**  \n",
    "**>>>sort_last\\[(1,7),(1,3),(3,4,5),(2,2)\\]**  \n",
    "**\\[(2, 2), (1, 3), (3, 4, 5), (1, 7)\\]**  "
   ]
  },
  {
   "cell_type": "code",
   "execution_count": 150,
   "metadata": {},
   "outputs": [
    {
     "data": {
      "text/plain": [
       "[(2, 2), (1, 3), (3, 4, 5), (1, 7)]"
      ]
     },
     "execution_count": 150,
     "metadata": {},
     "output_type": "execute_result"
    }
   ],
   "source": [
    "\n",
    "def sort_last(tuples):\n",
    "    return sorted(tuples, key = lambda n: n[-1])\n",
    "\n",
    "sort_last([(1,7),(1,3),(3,4,5),(2,2)])"
   ]
  },
  {
   "cell_type": "markdown",
   "metadata": {},
   "source": [
    "**Q29. Write a function \"remover_adjacent\" that does the following:**  \n",
    "\n",
    "  **Given a list of numbers, return a list where all adjacent equal**  \n",
    "  **elements have been reduced to a single element, so \\[1,2,2,3\\]**  \n",
    "  **returns \\[1,2,3\\]. You may create a new list or modify the passed**  \n",
    "  **in list.**  \n",
    "  \n",
    "**>>>remove_adjacent(\\[1,2,2,3\\])**   \n",
    "**\\[1,2,3\\]**  \n",
    "**>>>remove_adjacent(\\[2,2,3,3,3\\])**  \n",
    "**\\[2,3\\]**  \n",
    "**>>>remove_adjacent(\\[3,2,3,3,3\\])**  \n",
    "**\\[3,2,3\\]**  \n",
    "**>>>remove_adjacent(\\[\\])**  \n",
    "**\\[\\]**  "
   ]
  },
  {
   "cell_type": "code",
   "execution_count": 20,
   "metadata": {},
   "outputs": [
    {
     "data": {
      "text/plain": [
       "[]"
      ]
     },
     "execution_count": 20,
     "metadata": {},
     "output_type": "execute_result"
    }
   ],
   "source": [
    "def remove_adjacent(nums):\n",
    "    x = []\n",
    "    for i in nums:\n",
    "        if len(x):\n",
    "            if x[-1] != i:\n",
    "                x.append(i)\n",
    "        else: x.append(i)        \n",
    "    return x\n",
    "\n",
    "remove_adjacent([])"
   ]
  },
  {
   "cell_type": "code",
   "execution_count": 25,
   "metadata": {},
   "outputs": [
    {
     "name": "stdout",
     "output_type": "stream",
     "text": [
      "4\n"
     ]
    }
   ],
   "source": [
    "x = [2,2,3,3,4]\n",
    "print(x[-1])"
   ]
  },
  {
   "cell_type": "code",
   "execution_count": 8,
   "metadata": {},
   "outputs": [
    {
     "name": "stdout",
     "output_type": "stream",
     "text": [
      "['aa', 'bb', 'cc', 'xx', 'zz']\n"
     ]
    }
   ],
   "source": [
    "list1 = ['aa','xx',]\n",
    "list2 = ['bb','cc','zz']\n",
    "\n",
    "print(sorted(list1 + list2))"
   ]
  },
  {
   "cell_type": "markdown",
   "metadata": {},
   "source": [
    "**Q30. Write a function \"linear_merge\" that does the following**  \n",
    " \n",
    " **Given two lists 'sorted' in increasing order, create and return a**  \n",
    " **merged list if all the elements in sorted order. You may modify**  \n",
    " **the passed in lists. Ideally, the solution should work in \"linear\"**  \n",
    " **time, making a single pass of both lists**  \n",
    " \n",
    " **>>>linear_merge(\\['aa','xx','zz'\\],\\['bb','cc'\\])**. \n",
    " **\\['aa','bb','cc','xx','zz'\\]**  \n",
    " **>>>linear_merge(\\['aa','xx'\\],\\['bb','cc','zz'\\])**  \n",
    " **\\['aa','bb','cc','xx','zz'\\]**  \n",
    " **>>>linear_merge(\\['aa','aa'],\\['aa','bb','bb'\\])\n",
    " **\\['aa','aa','aa','bb','bb'\\]**  "
   ]
  },
  {
   "cell_type": "code",
   "execution_count": 10,
   "metadata": {},
   "outputs": [
    {
     "data": {
      "text/plain": [
       "['aa', 'bb', 'cc', 'xx', 'zz']"
      ]
     },
     "execution_count": 10,
     "metadata": {},
     "output_type": "execute_result"
    }
   ],
   "source": [
    "def linear_merge(list1,list2):\n",
    "    return sorted(list1 + list2)\n",
    "\n",
    "linear_merge(['aa','xx'],['bb','cc','zz'])"
   ]
  },
  {
   "cell_type": "code",
   "execution_count": 4,
   "metadata": {},
   "outputs": [],
   "source": [
    "import csv \n",
    "\n",
    "text = '''Team,Games,Wins,Losses,Draws,Goals,Goals Allowed,Points\n",
    "Arsenal,38,26,9,3,79,36,87\n",
    "Liverpool,38,24,8,6,67,30,80\n",
    "Manchester United,38,24,5,9,87,45,77\n",
    "Newcastle,38,21,8,9,74,52,71\n",
    "Leeds,38,18,12,8,53,37,66\n",
    "Chelsea,38,17,13,8,66,38,64\n",
    "West_Ham,38,15,8,15,48,57,53\n",
    "Aston_Villa,38,12,14,12,46,47,50\n",
    "Tottenham,38,14,8,16,49,53,50\n",
    "Blackburn,38,12,10,16,55,51,46\n",
    "Southampton,38,12,9,17,46,54,45\n",
    "Middlesbrough,38,12,9,17,35,47,45\n",
    "Fulham,38,10,14,14,36,44,44\n",
    "Charlton,38,10,14,14,38,49,44\n",
    "Everton,38,11,10,17,45,57,43\n",
    "Bolton,38,9,13,16,44,62,40\n",
    "Sunderland,38,10,10,18,29,51,40\n",
    "Ipswich,38,9,9,20,41,64,36\n",
    "Derby,38,8,6,24,33,63,30\n",
    "Leicester,38,5,13,20,30,64,28'''\n",
    "\n",
    "#with open('football.csv', 'w') as f:\n",
    "#    f.write(text)\n",
    "    \n",
    "#filename1 = open(\"football.csv\", 'r')\n",
    "#filename2 = csv.reader(filename1, delimiter='\\t')\n",
    "#footballTable = list(filename2)\n",
    "#print(footballTable)\n",
    "\n",
    "def read_data(data):\n",
    "    with open(data, 'r') as f:\n",
    "        data = [row for row in csv.reader(f.read().splitlines())]\n",
    "        return data\n",
    "\n",
    "footballTable = read_data('football.csv')\n"
   ]
  },
  {
   "cell_type": "code",
   "execution_count": 135,
   "metadata": {},
   "outputs": [
    {
     "data": {
      "text/plain": [
       "[['Team',\n",
       "  'Games',\n",
       "  'Wins',\n",
       "  'Losses',\n",
       "  'Draws',\n",
       "  'Goals',\n",
       "  'Goals Allowed',\n",
       "  'Points'],\n",
       " ['Arsenal', '38', '26', '9', '3', '79', '36', '87'],\n",
       " ['Liverpool', '38', '24', '8', '6', '67', '30', '80'],\n",
       " ['Manchester United', '38', '24', '5', '9', '87', '45', '77'],\n",
       " ['Newcastle', '38', '21', '8', '9', '74', '52', '71'],\n",
       " ['Leeds', '38', '18', '12', '8', '53', '37', '66'],\n",
       " ['Chelsea', '38', '17', '13', '8', '66', '38', '64'],\n",
       " ['West_Ham', '38', '15', '8', '15', '48', '57', '53'],\n",
       " ['Aston_Villa', '38', '12', '14', '12', '46', '47', '50'],\n",
       " ['Tottenham', '38', '14', '8', '16', '49', '53', '50'],\n",
       " ['Blackburn', '38', '12', '10', '16', '55', '51', '46'],\n",
       " ['Southampton', '38', '12', '9', '17', '46', '54', '45'],\n",
       " ['Middlesbrough', '38', '12', '9', '17', '35', '47', '45'],\n",
       " ['Fulham', '38', '10', '14', '14', '36', '44', '44'],\n",
       " ['Charlton', '38', '10', '14', '14', '38', '49', '44'],\n",
       " ['Everton', '38', '11', '10', '17', '45', '57', '43'],\n",
       " ['Bolton', '38', '9', '13', '16', '44', '62', '40'],\n",
       " ['Sunderland', '38', '10', '10', '18', '29', '51', '40'],\n",
       " ['Ipswich', '38', '9', '9', '20', '41', '64', '36'],\n",
       " ['Derby', '38', '8', '6', '24', '33', '63', '30'],\n",
       " ['Leicester', '38', '5', '13', '20', '30', '64', '28']]"
      ]
     },
     "execution_count": 135,
     "metadata": {},
     "output_type": "execute_result"
    }
   ],
   "source": [
    "import csv\n",
    "def read_data(filename):\n",
    "    open_file = open(\"football.csv\", 'r')\n",
    "    filename = csv.reader(open_file, delimiter=',')\n",
    "    return list(filename)\n",
    "    \n",
    "footballTable = read_data(\"football.csv\")\n",
    "footballTable"
   ]
  },
  {
   "cell_type": "code",
   "execution_count": 138,
   "metadata": {},
   "outputs": [],
   "source": [
    "mylist = footballTable\n",
    "\n",
    "mylist1 = []\n",
    "mylist2 = []\n",
    "for i in mylist[1:]:\n",
    "    mylist1.append(int(i[5]))\n",
    "    mylist2.append(int(i[6]))\n",
    "\n"
   ]
  },
  {
   "cell_type": "code",
   "execution_count": 142,
   "metadata": {},
   "outputs": [],
   "source": [
    "def get_index_with_min_abs_score_difference(goals):\n",
    "    min_goal_diff = []\n",
    "    for i in goals[1:]:\n",
    "        min_goal_diff.append(abs(int(i[5]) - int(i[6])))\n",
    "    return min_goal_diff.index(min(min_goal_diff)) + 1\n",
    "\n",
    "minrow = get_index_with_min_abs_score_difference(footballTable)\n",
    "\n"
   ]
  },
  {
   "cell_type": "code",
   "execution_count": 148,
   "metadata": {},
   "outputs": [
    {
     "name": "stdout",
     "output_type": "stream",
     "text": [
      "Aston_Villa\n"
     ]
    }
   ],
   "source": [
    "def get_team(index_value, parsed_data):\n",
    "    team = [i[0] for i in parsed_data]\n",
    "    return team[index_value]\n",
    "\n",
    "print(str(get_team(minrow, footballTable)))"
   ]
  },
  {
   "cell_type": "markdown",
   "metadata": {},
   "source": [
    "**Q32. Suppose I have two sorted lists, which I want to merge. Length of the first list is 'n', second is 'm'**  \n",
    "**What is the O for this merge below:**  \n",
    "\n",
    "def merge_one(list1,list2):\n",
    "    return sorted(list1 + list2)\n",
    "    \n",
    "**My Answer: O(m+n)**  "
   ]
  },
  {
   "cell_type": "markdown",
   "metadata": {},
   "source": [
    "**Q33. What is the O for this merge below:**  \n",
    "\n",
    "def merge_two(list1,list2):\n",
    "    l = \\[\\]\n",
    "    while list1 and list2:\n",
    "    if list1\\[0\\] < list2\\[0\\]:\n",
    "       l.append(list1.pop(0))\n",
    "    else:\n",
    "         l.append(list2.pop(0))\n",
    "    return l + list1 + list2\n",
    "    \n",
    "    \n",
    "**My Answer: O((n+m)log(n+m))**   "
   ]
  },
  {
   "cell_type": "markdown",
   "metadata": {},
   "source": [
    "**Q34.  Which merging method is faster? (The functions are same as in Question 32 & 33):**  \n",
    "**My Answer: merge_one (i.e. Question 32)**  "
   ]
  },
  {
   "cell_type": "markdown",
   "metadata": {},
   "source": [
    "**Q35. Given two 'non-sorted' lists (both of size n), we are interested in creating the interestion. Here's a**  \n",
    "**function that does that:**  \n",
    "\n",
    "def intersect_lists_1(list1, list2):\n",
    "    return \\[x for x in list1 if x in list2\\]\n",
    "    \n",
    "**Time complexity for this function in O(n\\*n), that is O(n^2)**  \n",
    "\n",
    "**Write a function that does this in O(n) time.**  \n",
    "**Use SETS**"
   ]
  },
  {
   "cell_type": "code",
   "execution_count": 61,
   "metadata": {},
   "outputs": [
    {
     "name": "stdout",
     "output_type": "stream",
     "text": [
      "[1, 2, 3, 4, 5, 6, 7, 11, 12, 15]\n"
     ]
    }
   ],
   "source": [
    "\n",
    "\n",
    "list_1 = [0,1,2,3,4,5,6,7,8,9,12,13,14,23,11,15,65,78]\n",
    "list_2 = [1,3,5,2,3,4,6,7,89,100,11,1123,12,15]\n",
    "\n",
    "list_3 = list(set(list_1) & set(list_2))\n",
    "print(list_3)\n",
    "\n",
    "def intersect_list_1(list1,list2):\n",
    "    return [i for i in list1 if i in list2]\n",
    "\n",
    "def intersect_list_1(list1,list2):\n",
    "    return list(set(list1) & set(list2))"
   ]
  },
  {
   "cell_type": "markdown",
   "metadata": {},
   "source": [
    "**Q36.  Given a non-sorted list with duplicate elements, return the unique elements in that list in a data**  \n",
    "**structure of you choice.**  \n",
    "\n",
    "**Your function should have linear time complexity (O(n))**  "
   ]
  },
  {
   "cell_type": "code",
   "execution_count": 69,
   "metadata": {},
   "outputs": [
    {
     "data": {
      "text/plain": [
       "[0, 1, 2, 3, 4, 5]"
      ]
     },
     "execution_count": 69,
     "metadata": {},
     "output_type": "execute_result"
    }
   ],
   "source": [
    "def remove_duplicates(somelist):\n",
    "    return list(set(somelist))\n",
    "remove_duplicates([0,1,1,1,2,2,2,2,3,3,3,4,4,4,4,5,5,5,5])"
   ]
  },
  {
   "cell_type": "markdown",
   "metadata": {},
   "source": [
    "**Q37. Comments in the Pre-work so far?"
   ]
  },
  {
   "cell_type": "code",
   "execution_count": 156,
   "metadata": {},
   "outputs": [
    {
     "ename": "KeyError",
     "evalue": "'spam'",
     "output_type": "error",
     "traceback": [
      "\u001b[0;31m---------------------------------------------------------------------------\u001b[0m",
      "\u001b[0;31mKeyError\u001b[0m                                  Traceback (most recent call last)",
      "\u001b[0;32m<ipython-input-156-d0dc48fcfa39>\u001b[0m in \u001b[0;36m<module>\u001b[0;34m()\u001b[0m\n\u001b[1;32m      5\u001b[0m \u001b[0mfood_count\u001b[0m \u001b[0;34m=\u001b[0m \u001b[0mdict\u001b[0m\u001b[0;34m(\u001b[0m\u001b[0;34m)\u001b[0m\u001b[0;34m\u001b[0m\u001b[0m\n\u001b[1;32m      6\u001b[0m \u001b[0;32mfor\u001b[0m \u001b[0mfood\u001b[0m \u001b[0;32min\u001b[0m \u001b[0mfood_list\u001b[0m\u001b[0;34m:\u001b[0m\u001b[0;34m\u001b[0m\u001b[0m\n\u001b[0;32m----> 7\u001b[0;31m     \u001b[0mfood_count\u001b[0m\u001b[0;34m[\u001b[0m\u001b[0mfood\u001b[0m\u001b[0;34m]\u001b[0m \u001b[0;34m+=\u001b[0m \u001b[0;36m1\u001b[0m\u001b[0;34m\u001b[0m\u001b[0m\n\u001b[0m\u001b[1;32m      8\u001b[0m \u001b[0;34m\u001b[0m\u001b[0m\n\u001b[1;32m      9\u001b[0m \u001b[0;31m#food_count = defaultdict(int)\u001b[0m\u001b[0;34m\u001b[0m\u001b[0;34m\u001b[0m\u001b[0m\n",
      "\u001b[0;31mKeyError\u001b[0m: 'spam'"
     ]
    }
   ],
   "source": [
    "from collections import defaultdict\n",
    "\n",
    "food_list = 'spam spam spam spam spam spam eggs spam'.split()\n",
    "\n",
    "food_count = dict()\n",
    "for food in food_list:\n",
    "    food_count[food] += 1\n",
    "\n",
    "#food_count = defaultdict(int)\n",
    "#for food in food_list:\n",
    "#    food_count[food] += 1\n",
    "\n",
    "print(food_count)"
   ]
  },
  {
   "cell_type": "code",
   "execution_count": 152,
   "metadata": {},
   "outputs": [
    {
     "name": "stdout",
     "output_type": "stream",
     "text": [
      "{'first': 123, 'second': 456, 'third': {1: 1, 2: 2}, 'fourth': {1: 2, 2: 2}, 'fifth': 555}\n"
     ]
    },
    {
     "ename": "NameError",
     "evalue": "name 'pprint' is not defined",
     "output_type": "error",
     "traceback": [
      "\u001b[0;31m---------------------------------------------------------------------------\u001b[0m",
      "\u001b[0;31mNameError\u001b[0m                                 Traceback (most recent call last)",
      "\u001b[0;32m<ipython-input-152-799c7dcc2933>\u001b[0m in \u001b[0;36m<module>\u001b[0;34m()\u001b[0m\n\u001b[1;32m      5\u001b[0m \u001b[0;34m\u001b[0m\u001b[0m\n\u001b[1;32m      6\u001b[0m \u001b[0;34m\u001b[0m\u001b[0m\n\u001b[0;32m----> 7\u001b[0;31m \u001b[0mpprint\u001b[0m\u001b[0;34m.\u001b[0m\u001b[0mpprint\u001b[0m\u001b[0;34m(\u001b[0m\u001b[0ma\u001b[0m\u001b[0;34m)\u001b[0m\u001b[0;34m\u001b[0m\u001b[0m\n\u001b[0m\u001b[1;32m      8\u001b[0m \u001b[0mpp\u001b[0m\u001b[0;34m.\u001b[0m\u001b[0mpprint\u001b[0m\u001b[0;34m(\u001b[0m\u001b[0ma\u001b[0m\u001b[0;34m,\u001b[0m \u001b[0mwidth\u001b[0m\u001b[0;34m=\u001b[0m\u001b[0;36m2\u001b[0m\u001b[0;34m)\u001b[0m\u001b[0;34m\u001b[0m\u001b[0m\n",
      "\u001b[0;31mNameError\u001b[0m: name 'pprint' is not defined"
     ]
    }
   ],
   "source": [
    "import pprint as pp\n",
    "\n",
    "a = {'first': 123, 'second': 456, 'third': {1:1,2:2}, 'fourth': {1:2,2:2}, 'fifth': 555}\n",
    "print(a)\n",
    "\n",
    "\n",
    "pprint.pprint(a)\n",
    "pp.pprint(a, width=2)"
   ]
  },
  {
   "cell_type": "code",
   "execution_count": 153,
   "metadata": {},
   "outputs": [
    {
     "name": "stdout",
     "output_type": "stream",
     "text": [
      "0 It's\n",
      "1 only\n",
      "2 a\n",
      "3 model\n"
     ]
    }
   ],
   "source": [
    "mylist = [\"It's\", 'only', 'a', 'model']\n",
    "\n",
    "for index, item in enumerate(mylist):\n",
    "    print(index, item)"
   ]
  },
  {
   "cell_type": "code",
   "execution_count": null,
   "metadata": {},
   "outputs": [],
   "source": []
  }
 ],
 "metadata": {
  "kernelspec": {
   "display_name": "Python 3",
   "language": "python",
   "name": "python3"
  },
  "language_info": {
   "codemirror_mode": {
    "name": "ipython",
    "version": 3
   },
   "file_extension": ".py",
   "mimetype": "text/x-python",
   "name": "python",
   "nbconvert_exporter": "python",
   "pygments_lexer": "ipython3",
   "version": "3.6.5"
  }
 },
 "nbformat": 4,
 "nbformat_minor": 2
}
