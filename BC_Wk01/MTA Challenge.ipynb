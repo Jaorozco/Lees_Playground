{
 "cells": [
  {
   "cell_type": "markdown",
   "metadata": {},
   "source": [
    "### Challenge 1\n",
    "\n",
    "- Open up a new IPython notebook  \n",
    "- Download a few MTA turnstile data files  \n",
    "- Open up a file, use csv reader to read it, make a python dict where there is a key for each (C/A, UNIT, SCP, STATION). These are the first four columns. The value for this key should be a list of lists. Each list in the list is the rest of the columns in a row. For example, one key-value pair should look like  \n",
    "\n",
    "\n",
    "{ ('A002','R051','02-00-00','LEXINGTON AVE'): [ ['NQR456', 'BMT', '01/03/2015', '03:00:00', 'REGULAR', '0004945474', '0001675324'], ['NQR456', 'BMT', '01/03/2015', '07:00:00', 'REGULAR', '0004945478', '0001675333'], ['NQR456', 'BMT', '01/03/2015', '11:00:00', 'REGULAR', '0004945515', '0001675364'], ... ] }  "
   ]
  },
  {
   "cell_type": "code",
   "execution_count": 1,
   "metadata": {},
   "outputs": [],
   "source": [
    "#going to the MTA website and appending multiple data file into the pandas dataframe (for the month of May 2018.\n",
    "\n",
    "import pandas as pd\n",
    "\n",
    "links = ['http://web.mta.info/developers/data/nyct/turnstile/turnstile_180505.txt', \n",
    "         'http://web.mta.info/developers/data/nyct/turnstile/turnstile_180512.txt',\n",
    "        'http://web.mta.info/developers/data/nyct/turnstile/turnstile_180519.txt',\n",
    "        'http://web.mta.info/developers/data/nyct/turnstile/turnstile_180526.txt',\n",
    "        'http://web.mta.info/developers/data/nyct/turnstile/turnstile_180602.txt']\n",
    "\n",
    "df = pd.concat([pd.read_csv(l) for l in links], ignore_index=True)"
   ]
  },
  {
   "cell_type": "markdown",
   "metadata": {},
   "source": [
    "### Challenge 2\n",
    "\n",
    "- Let's turn this into a time series.\n",
    "\n",
    " For each key (basically the control area, unit, device address and\n",
    " station of a specific turnstile), have a list again, but let the list\n",
    " be comprised of just the point in time and the count of entries.\n",
    "\n",
    "This basically means keeping only the date, time, and entries fields\n",
    "in each list. You can convert the date and time into datetime objects\n",
    "-- That is a python class that represents a point in time. You can\n",
    "combine the date and time fields into a string and use the\n",
    "[dateutil](https://labix.org/python-dateutil) module to convert it\n",
    "into a datetime object. For an example check\n",
    "[this StackOverflow question](http://stackoverflow.com/questions/23385003/attributeerror-when-using-import-dateutil-and-dateutil-parser-parse-but-no).\n",
    "\n",
    "Your new dict should look something like\n",
    "\n",
    "{    ('A002','R051','02-00-00','LEXINGTON AVE'):\n",
    "[\n",
    "[datetime.datetime(2013, 3, 2, 3, 0), 3788],\n",
    "[datetime.datetime(2013, 3, 2, 7, 0), 2585],\n",
    "[datetime.datetime(2013, 3, 2, 12, 0), 10653],\n",
    "[datetime.datetime(2013, 3, 2, 17, 0), 11016],\n",
    "[datetime.datetime(2013, 3, 2, 23, 0), 10666],\n",
    "[datetime.datetime(2013, 3, 3, 3, 0), 10814],\n",
    "[datetime.datetime(2013, 3, 3, 7, 0), 10229],\n",
    "...\n",
    "],\n",
    "....\n",
    "}\n",
    "\n"
   ]
  },
  {
   "cell_type": "code",
   "execution_count": 2,
   "metadata": {},
   "outputs": [
    {
     "data": {
      "text/plain": [
       "Index(['C/A', 'UNIT', 'SCP', 'STATION', 'LINENAME', 'DIVISION', 'DATE', 'TIME',\n",
       "       'DESC', 'ENTRIES',\n",
       "       'EXITS                                                               '],\n",
       "      dtype='object')"
      ]
     },
     "execution_count": 2,
     "metadata": {},
     "output_type": "execute_result"
    }
   ],
   "source": [
    "df.columns"
   ]
  },
  {
   "cell_type": "code",
   "execution_count": 3,
   "metadata": {},
   "outputs": [
    {
     "data": {
      "text/plain": [
       "Index(['C/A', 'UNIT', 'SCP', 'STATION', 'LINENAME', 'DIVISION', 'DATE', 'TIME',\n",
       "       'DESC', 'ENTRIES', 'EXITS'],\n",
       "      dtype='object')"
      ]
     },
     "execution_count": 3,
     "metadata": {},
     "output_type": "execute_result"
    }
   ],
   "source": [
    "df.columns = df.columns.str.strip()\n",
    "df.columns"
   ]
  },
  {
   "cell_type": "code",
   "execution_count": 4,
   "metadata": {
    "scrolled": true
   },
   "outputs": [],
   "source": [
    "#Concatenating Data and Time before using the parse function from the dateutil package\n",
    "df['DATE_TIME'] = df['DATE'] + ' ' + df['TIME']\n",
    "#df.head()\n",
    "#df.dtypes"
   ]
  },
  {
   "cell_type": "code",
   "execution_count": 5,
   "metadata": {},
   "outputs": [],
   "source": [
    "#using a for loop to convert date time into datetime/ timeseries.\n",
    "#eventhough this is slower than the solution that was provided but I thought I'd stick with what I had originally done. \n",
    "from datetime import datetime\n",
    "from dateutil.parser import parse\n",
    " \n",
    "#creates a list comprehension to convert Date and Datetime to 'datetime'\n",
    "date = [parse(x) for x in df['DATE']] \n",
    "parsed_datetime = [parse(x) for x in df['DATE_TIME']]\n",
    "\n"
   ]
  },
  {
   "cell_type": "code",
   "execution_count": 14,
   "metadata": {},
   "outputs": [
    {
     "data": {
      "text/plain": [
       "C/A          object\n",
       "UNIT         object\n",
       "SCP          object\n",
       "STATION      object\n",
       "LINENAME     object\n",
       "DIVISION     object\n",
       "DATE         object\n",
       "TIME         object\n",
       "DESC         object\n",
       "ENTRIES       int64\n",
       "EXITS         int64\n",
       "DATE TIME    object\n",
       "DATE_TIME    object\n",
       "dtype: object"
      ]
     },
     "execution_count": 14,
     "metadata": {},
     "output_type": "execute_result"
    }
   ],
   "source": [
    "#df.dtypes\n",
    "#date[0:4]\n",
    "#parsed_datetime[0:4]"
   ]
  },
  {
   "cell_type": "code",
   "execution_count": 6,
   "metadata": {},
   "outputs": [],
   "source": [
    "#adding two new columns in the Dataframe 'df' as datetime64\n",
    "df['PARSED_DATE'] = date\n",
    "df['PARSED_DATE_TIME']= parsed_datetime\n",
    "#df.dtypes\n",
    "#df.head()"
   ]
  },
  {
   "cell_type": "code",
   "execution_count": 7,
   "metadata": {},
   "outputs": [
    {
     "data": {
      "text/html": [
       "<div>\n",
       "<style scoped>\n",
       "    .dataframe tbody tr th:only-of-type {\n",
       "        vertical-align: middle;\n",
       "    }\n",
       "\n",
       "    .dataframe tbody tr th {\n",
       "        vertical-align: top;\n",
       "    }\n",
       "\n",
       "    .dataframe thead th {\n",
       "        text-align: right;\n",
       "    }\n",
       "</style>\n",
       "<table border=\"1\" class=\"dataframe\">\n",
       "  <thead>\n",
       "    <tr style=\"text-align: right;\">\n",
       "      <th></th>\n",
       "      <th>C/A</th>\n",
       "      <th>UNIT</th>\n",
       "      <th>SCP</th>\n",
       "      <th>STATION</th>\n",
       "      <th>LINENAME</th>\n",
       "      <th>DIVISION</th>\n",
       "      <th>DATE</th>\n",
       "      <th>TIME</th>\n",
       "      <th>DESC</th>\n",
       "      <th>ENTRIES</th>\n",
       "      <th>EXITS</th>\n",
       "      <th>DATE_TIME</th>\n",
       "      <th>PARSED_DATE</th>\n",
       "      <th>PARSED_DATE_TIME</th>\n",
       "    </tr>\n",
       "  </thead>\n",
       "  <tbody>\n",
       "    <tr>\n",
       "      <th>0</th>\n",
       "      <td>A002</td>\n",
       "      <td>R051</td>\n",
       "      <td>02-00-00</td>\n",
       "      <td>59 ST</td>\n",
       "      <td>NQR456W</td>\n",
       "      <td>BMT</td>\n",
       "      <td>04/28/2018</td>\n",
       "      <td>00:00:00</td>\n",
       "      <td>REGULAR</td>\n",
       "      <td>6598847</td>\n",
       "      <td>2235829</td>\n",
       "      <td>04/28/2018 00:00:00</td>\n",
       "      <td>2018-04-28</td>\n",
       "      <td>2018-04-28 00:00:00</td>\n",
       "    </tr>\n",
       "    <tr>\n",
       "      <th>1</th>\n",
       "      <td>A002</td>\n",
       "      <td>R051</td>\n",
       "      <td>02-00-00</td>\n",
       "      <td>59 ST</td>\n",
       "      <td>NQR456W</td>\n",
       "      <td>BMT</td>\n",
       "      <td>04/28/2018</td>\n",
       "      <td>04:00:00</td>\n",
       "      <td>REGULAR</td>\n",
       "      <td>6598864</td>\n",
       "      <td>2235830</td>\n",
       "      <td>04/28/2018 04:00:00</td>\n",
       "      <td>2018-04-28</td>\n",
       "      <td>2018-04-28 04:00:00</td>\n",
       "    </tr>\n",
       "    <tr>\n",
       "      <th>2</th>\n",
       "      <td>A002</td>\n",
       "      <td>R051</td>\n",
       "      <td>02-00-00</td>\n",
       "      <td>59 ST</td>\n",
       "      <td>NQR456W</td>\n",
       "      <td>BMT</td>\n",
       "      <td>04/28/2018</td>\n",
       "      <td>08:00:00</td>\n",
       "      <td>REGULAR</td>\n",
       "      <td>6598880</td>\n",
       "      <td>2235863</td>\n",
       "      <td>04/28/2018 08:00:00</td>\n",
       "      <td>2018-04-28</td>\n",
       "      <td>2018-04-28 08:00:00</td>\n",
       "    </tr>\n",
       "    <tr>\n",
       "      <th>3</th>\n",
       "      <td>A002</td>\n",
       "      <td>R051</td>\n",
       "      <td>02-00-00</td>\n",
       "      <td>59 ST</td>\n",
       "      <td>NQR456W</td>\n",
       "      <td>BMT</td>\n",
       "      <td>04/28/2018</td>\n",
       "      <td>12:00:00</td>\n",
       "      <td>REGULAR</td>\n",
       "      <td>6598961</td>\n",
       "      <td>2235955</td>\n",
       "      <td>04/28/2018 12:00:00</td>\n",
       "      <td>2018-04-28</td>\n",
       "      <td>2018-04-28 12:00:00</td>\n",
       "    </tr>\n",
       "    <tr>\n",
       "      <th>4</th>\n",
       "      <td>A002</td>\n",
       "      <td>R051</td>\n",
       "      <td>02-00-00</td>\n",
       "      <td>59 ST</td>\n",
       "      <td>NQR456W</td>\n",
       "      <td>BMT</td>\n",
       "      <td>04/28/2018</td>\n",
       "      <td>16:00:00</td>\n",
       "      <td>REGULAR</td>\n",
       "      <td>6599175</td>\n",
       "      <td>2236015</td>\n",
       "      <td>04/28/2018 16:00:00</td>\n",
       "      <td>2018-04-28</td>\n",
       "      <td>2018-04-28 16:00:00</td>\n",
       "    </tr>\n",
       "  </tbody>\n",
       "</table>\n",
       "</div>"
      ],
      "text/plain": [
       "    C/A  UNIT       SCP STATION LINENAME DIVISION        DATE      TIME  \\\n",
       "0  A002  R051  02-00-00   59 ST  NQR456W      BMT  04/28/2018  00:00:00   \n",
       "1  A002  R051  02-00-00   59 ST  NQR456W      BMT  04/28/2018  04:00:00   \n",
       "2  A002  R051  02-00-00   59 ST  NQR456W      BMT  04/28/2018  08:00:00   \n",
       "3  A002  R051  02-00-00   59 ST  NQR456W      BMT  04/28/2018  12:00:00   \n",
       "4  A002  R051  02-00-00   59 ST  NQR456W      BMT  04/28/2018  16:00:00   \n",
       "\n",
       "      DESC  ENTRIES    EXITS            DATE_TIME PARSED_DATE  \\\n",
       "0  REGULAR  6598847  2235829  04/28/2018 00:00:00  2018-04-28   \n",
       "1  REGULAR  6598864  2235830  04/28/2018 04:00:00  2018-04-28   \n",
       "2  REGULAR  6598880  2235863  04/28/2018 08:00:00  2018-04-28   \n",
       "3  REGULAR  6598961  2235955  04/28/2018 12:00:00  2018-04-28   \n",
       "4  REGULAR  6599175  2236015  04/28/2018 16:00:00  2018-04-28   \n",
       "\n",
       "     PARSED_DATE_TIME  \n",
       "0 2018-04-28 00:00:00  \n",
       "1 2018-04-28 04:00:00  \n",
       "2 2018-04-28 08:00:00  \n",
       "3 2018-04-28 12:00:00  \n",
       "4 2018-04-28 16:00:00  "
      ]
     },
     "execution_count": 7,
     "metadata": {},
     "output_type": "execute_result"
    }
   ],
   "source": [
    "df.head()"
   ]
  },
  {
   "cell_type": "markdown",
   "metadata": {},
   "source": [
    "### Challenge 3\n",
    "\n",
    "- These counts are for every n hours. (What is n?) We want total daily\n",
    "  entries.\n",
    "\n",
    "Now make it that we again have the same keys, but now we have a single\n",
    "value for a single day, which is the total number of passengers that\n",
    "entered through this turnstile on this day."
   ]
  },
  {
   "cell_type": "markdown",
   "metadata": {},
   "source": [
    "#### Answer. \n",
    "**'n' is hours incremental in four hours for each turnstile**. "
   ]
  },
  {
   "cell_type": "code",
   "execution_count": 8,
   "metadata": {},
   "outputs": [],
   "source": [
    "dup_df = df[['C/A','UNIT','SCP','STATION','DESC','ENTRIES','EXITS','PARSED_DATE','PARSED_DATE_TIME']]"
   ]
  },
  {
   "cell_type": "code",
   "execution_count": 9,
   "metadata": {},
   "outputs": [
    {
     "data": {
      "text/html": [
       "<div>\n",
       "<style scoped>\n",
       "    .dataframe tbody tr th:only-of-type {\n",
       "        vertical-align: middle;\n",
       "    }\n",
       "\n",
       "    .dataframe tbody tr th {\n",
       "        vertical-align: top;\n",
       "    }\n",
       "\n",
       "    .dataframe thead th {\n",
       "        text-align: right;\n",
       "    }\n",
       "</style>\n",
       "<table border=\"1\" class=\"dataframe\">\n",
       "  <thead>\n",
       "    <tr style=\"text-align: right;\">\n",
       "      <th></th>\n",
       "      <th>C/A</th>\n",
       "      <th>UNIT</th>\n",
       "      <th>SCP</th>\n",
       "      <th>STATION</th>\n",
       "      <th>PARSED_DATE_TIME</th>\n",
       "      <th>ENTRIES</th>\n",
       "    </tr>\n",
       "  </thead>\n",
       "  <tbody>\n",
       "    <tr>\n",
       "      <th>615668</th>\n",
       "      <td>R101</td>\n",
       "      <td>R001</td>\n",
       "      <td>02-00-05</td>\n",
       "      <td>SOUTH FERRY</td>\n",
       "      <td>2018-05-23 09:00:00</td>\n",
       "      <td>2</td>\n",
       "    </tr>\n",
       "    <tr>\n",
       "      <th>615038</th>\n",
       "      <td>R101</td>\n",
       "      <td>R001</td>\n",
       "      <td>02-00-02</td>\n",
       "      <td>SOUTH FERRY</td>\n",
       "      <td>2018-05-23 09:00:00</td>\n",
       "      <td>2</td>\n",
       "    </tr>\n",
       "    <tr>\n",
       "      <th>614618</th>\n",
       "      <td>R101</td>\n",
       "      <td>R001</td>\n",
       "      <td>02-00-00</td>\n",
       "      <td>SOUTH FERRY</td>\n",
       "      <td>2018-05-23 09:00:00</td>\n",
       "      <td>2</td>\n",
       "    </tr>\n",
       "    <tr>\n",
       "      <th>0</th>\n",
       "      <td>A002</td>\n",
       "      <td>R051</td>\n",
       "      <td>02-00-00</td>\n",
       "      <td>59 ST</td>\n",
       "      <td>2018-04-28 00:00:00</td>\n",
       "      <td>1</td>\n",
       "    </tr>\n",
       "    <tr>\n",
       "      <th>656937</th>\n",
       "      <td>R143</td>\n",
       "      <td>R032</td>\n",
       "      <td>02-00-01</td>\n",
       "      <td>TIMES SQ-42 ST</td>\n",
       "      <td>2018-05-14 00:00:00</td>\n",
       "      <td>1</td>\n",
       "    </tr>\n",
       "  </tbody>\n",
       "</table>\n",
       "</div>"
      ],
      "text/plain": [
       "         C/A  UNIT       SCP         STATION    PARSED_DATE_TIME  ENTRIES\n",
       "615668  R101  R001  02-00-05     SOUTH FERRY 2018-05-23 09:00:00        2\n",
       "615038  R101  R001  02-00-02     SOUTH FERRY 2018-05-23 09:00:00        2\n",
       "614618  R101  R001  02-00-00     SOUTH FERRY 2018-05-23 09:00:00        2\n",
       "0       A002  R051  02-00-00           59 ST 2018-04-28 00:00:00        1\n",
       "656937  R143  R032  02-00-01  TIMES SQ-42 ST 2018-05-14 00:00:00        1"
      ]
     },
     "execution_count": 9,
     "metadata": {},
     "output_type": "execute_result"
    }
   ],
   "source": [
    "dup_df.groupby(['C/A','UNIT','SCP','STATION','PARSED_DATE_TIME'])[['ENTRIES']].count().reset_index() \\\n",
    ".sort_values('ENTRIES', ascending=False).head()"
   ]
  },
  {
   "cell_type": "code",
   "execution_count": 10,
   "metadata": {},
   "outputs": [
    {
     "data": {
      "text/html": [
       "<div>\n",
       "<style scoped>\n",
       "    .dataframe tbody tr th:only-of-type {\n",
       "        vertical-align: middle;\n",
       "    }\n",
       "\n",
       "    .dataframe tbody tr th {\n",
       "        vertical-align: top;\n",
       "    }\n",
       "\n",
       "    .dataframe thead th {\n",
       "        text-align: right;\n",
       "    }\n",
       "</style>\n",
       "<table border=\"1\" class=\"dataframe\">\n",
       "  <thead>\n",
       "    <tr style=\"text-align: right;\">\n",
       "      <th></th>\n",
       "      <th>C/A</th>\n",
       "      <th>UNIT</th>\n",
       "      <th>SCP</th>\n",
       "      <th>STATION</th>\n",
       "      <th>DESC</th>\n",
       "      <th>ENTRIES</th>\n",
       "      <th>EXITS</th>\n",
       "      <th>PARSED_DATE</th>\n",
       "      <th>PARSED_DATE_TIME</th>\n",
       "    </tr>\n",
       "  </thead>\n",
       "  <tbody>\n",
       "    <tr>\n",
       "      <th>714372</th>\n",
       "      <td>R101</td>\n",
       "      <td>R001</td>\n",
       "      <td>02-00-05</td>\n",
       "      <td>SOUTH FERRY</td>\n",
       "      <td>REGULAR</td>\n",
       "      <td>2582231</td>\n",
       "      <td>1754670</td>\n",
       "      <td>2018-05-23</td>\n",
       "      <td>2018-05-23 09:00:00</td>\n",
       "    </tr>\n",
       "    <tr>\n",
       "      <th>714373</th>\n",
       "      <td>R101</td>\n",
       "      <td>R001</td>\n",
       "      <td>02-00-05</td>\n",
       "      <td>SOUTH FERRY</td>\n",
       "      <td>RECOVR AUD</td>\n",
       "      <td>2582231</td>\n",
       "      <td>1754669</td>\n",
       "      <td>2018-05-23</td>\n",
       "      <td>2018-05-23 09:00:00</td>\n",
       "    </tr>\n",
       "  </tbody>\n",
       "</table>\n",
       "</div>"
      ],
      "text/plain": [
       "         C/A  UNIT       SCP      STATION        DESC  ENTRIES    EXITS  \\\n",
       "714372  R101  R001  02-00-05  SOUTH FERRY     REGULAR  2582231  1754670   \n",
       "714373  R101  R001  02-00-05  SOUTH FERRY  RECOVR AUD  2582231  1754669   \n",
       "\n",
       "       PARSED_DATE    PARSED_DATE_TIME  \n",
       "714372  2018-05-23 2018-05-23 09:00:00  \n",
       "714373  2018-05-23 2018-05-23 09:00:00  "
      ]
     },
     "execution_count": 10,
     "metadata": {},
     "output_type": "execute_result"
    }
   ],
   "source": [
    "dup_df[(df['C/A'] == 'R101') & (df['UNIT'] == 'R001') & (df['SCP'] == '02-00-05') & (df['STATION'] == 'SOUTH FERRY') \\\n",
    "   & (df['PARSED_DATE_TIME'] == '2018-05-23 09:00:00')]"
   ]
  },
  {
   "cell_type": "code",
   "execution_count": 11,
   "metadata": {},
   "outputs": [],
   "source": [
    "may_mta_df = dup_df.drop_duplicates(subset=['C/A','UNIT','SCP','STATION','PARSED_DATE_TIME'])"
   ]
  },
  {
   "cell_type": "code",
   "execution_count": 12,
   "metadata": {},
   "outputs": [
    {
     "data": {
      "text/html": [
       "<div>\n",
       "<style scoped>\n",
       "    .dataframe tbody tr th:only-of-type {\n",
       "        vertical-align: middle;\n",
       "    }\n",
       "\n",
       "    .dataframe tbody tr th {\n",
       "        vertical-align: top;\n",
       "    }\n",
       "\n",
       "    .dataframe thead th {\n",
       "        text-align: right;\n",
       "    }\n",
       "</style>\n",
       "<table border=\"1\" class=\"dataframe\">\n",
       "  <thead>\n",
       "    <tr style=\"text-align: right;\">\n",
       "      <th></th>\n",
       "      <th>C/A</th>\n",
       "      <th>UNIT</th>\n",
       "      <th>SCP</th>\n",
       "      <th>STATION</th>\n",
       "      <th>PARSED_DATE_TIME</th>\n",
       "      <th>ENTRIES</th>\n",
       "    </tr>\n",
       "  </thead>\n",
       "  <tbody>\n",
       "    <tr>\n",
       "      <th>0</th>\n",
       "      <td>A002</td>\n",
       "      <td>R051</td>\n",
       "      <td>02-00-00</td>\n",
       "      <td>59 ST</td>\n",
       "      <td>2018-04-28 00:00:00</td>\n",
       "      <td>1</td>\n",
       "    </tr>\n",
       "    <tr>\n",
       "      <th>657012</th>\n",
       "      <td>R143</td>\n",
       "      <td>R032</td>\n",
       "      <td>02-00-01</td>\n",
       "      <td>TIMES SQ-42 ST</td>\n",
       "      <td>2018-05-26 12:00:00</td>\n",
       "      <td>1</td>\n",
       "    </tr>\n",
       "    <tr>\n",
       "      <th>656924</th>\n",
       "      <td>R143</td>\n",
       "      <td>R032</td>\n",
       "      <td>02-00-01</td>\n",
       "      <td>TIMES SQ-42 ST</td>\n",
       "      <td>2018-05-11 20:00:00</td>\n",
       "      <td>1</td>\n",
       "    </tr>\n",
       "    <tr>\n",
       "      <th>656925</th>\n",
       "      <td>R143</td>\n",
       "      <td>R032</td>\n",
       "      <td>02-00-01</td>\n",
       "      <td>TIMES SQ-42 ST</td>\n",
       "      <td>2018-05-12 00:00:00</td>\n",
       "      <td>1</td>\n",
       "    </tr>\n",
       "    <tr>\n",
       "      <th>656926</th>\n",
       "      <td>R143</td>\n",
       "      <td>R032</td>\n",
       "      <td>02-00-01</td>\n",
       "      <td>TIMES SQ-42 ST</td>\n",
       "      <td>2018-05-12 04:00:00</td>\n",
       "      <td>1</td>\n",
       "    </tr>\n",
       "  </tbody>\n",
       "</table>\n",
       "</div>"
      ],
      "text/plain": [
       "         C/A  UNIT       SCP         STATION    PARSED_DATE_TIME  ENTRIES\n",
       "0       A002  R051  02-00-00           59 ST 2018-04-28 00:00:00        1\n",
       "657012  R143  R032  02-00-01  TIMES SQ-42 ST 2018-05-26 12:00:00        1\n",
       "656924  R143  R032  02-00-01  TIMES SQ-42 ST 2018-05-11 20:00:00        1\n",
       "656925  R143  R032  02-00-01  TIMES SQ-42 ST 2018-05-12 00:00:00        1\n",
       "656926  R143  R032  02-00-01  TIMES SQ-42 ST 2018-05-12 04:00:00        1"
      ]
     },
     "execution_count": 12,
     "metadata": {},
     "output_type": "execute_result"
    }
   ],
   "source": [
    "may_mta_df.groupby(['C/A','UNIT','SCP','STATION','PARSED_DATE_TIME'])[['ENTRIES']].count().reset_index() \\\n",
    ".sort_values('ENTRIES', ascending=False).head()"
   ]
  },
  {
   "cell_type": "code",
   "execution_count": 13,
   "metadata": {},
   "outputs": [
    {
     "name": "stderr",
     "output_type": "stream",
     "text": [
      "/anaconda3/lib/python3.6/site-packages/ipykernel_launcher.py:1: UserWarning: Boolean Series key will be reindexed to match DataFrame index.\n",
      "  \"\"\"Entry point for launching an IPython kernel.\n"
     ]
    },
    {
     "data": {
      "text/html": [
       "<div>\n",
       "<style scoped>\n",
       "    .dataframe tbody tr th:only-of-type {\n",
       "        vertical-align: middle;\n",
       "    }\n",
       "\n",
       "    .dataframe tbody tr th {\n",
       "        vertical-align: top;\n",
       "    }\n",
       "\n",
       "    .dataframe thead th {\n",
       "        text-align: right;\n",
       "    }\n",
       "</style>\n",
       "<table border=\"1\" class=\"dataframe\">\n",
       "  <thead>\n",
       "    <tr style=\"text-align: right;\">\n",
       "      <th></th>\n",
       "      <th>C/A</th>\n",
       "      <th>UNIT</th>\n",
       "      <th>SCP</th>\n",
       "      <th>STATION</th>\n",
       "      <th>DESC</th>\n",
       "      <th>ENTRIES</th>\n",
       "      <th>EXITS</th>\n",
       "      <th>PARSED_DATE</th>\n",
       "      <th>PARSED_DATE_TIME</th>\n",
       "    </tr>\n",
       "  </thead>\n",
       "  <tbody>\n",
       "    <tr>\n",
       "      <th>714160</th>\n",
       "      <td>R101</td>\n",
       "      <td>R001</td>\n",
       "      <td>02-00-00</td>\n",
       "      <td>SOUTH FERRY</td>\n",
       "      <td>REGULAR</td>\n",
       "      <td>2967614</td>\n",
       "      <td>4861484</td>\n",
       "      <td>2018-05-23</td>\n",
       "      <td>2018-05-23 09:00:00</td>\n",
       "    </tr>\n",
       "  </tbody>\n",
       "</table>\n",
       "</div>"
      ],
      "text/plain": [
       "         C/A  UNIT       SCP      STATION     DESC  ENTRIES    EXITS  \\\n",
       "714160  R101  R001  02-00-00  SOUTH FERRY  REGULAR  2967614  4861484   \n",
       "\n",
       "       PARSED_DATE    PARSED_DATE_TIME  \n",
       "714160  2018-05-23 2018-05-23 09:00:00  "
      ]
     },
     "execution_count": 13,
     "metadata": {},
     "output_type": "execute_result"
    }
   ],
   "source": [
    "#may_mta_df[(df['C/A'] == 'R101') & (df['UNIT'] == 'R001') & (df['SCP'] == '02-00-00') & (df['STATION'] == 'SOUTH FERRY') \\\n",
    "#   & (df['PARSED_DATE_TIME'] == '2018-05-23 09:00:00')]"
   ]
  },
  {
   "cell_type": "code",
   "execution_count": null,
   "metadata": {},
   "outputs": [],
   "source": []
  }
 ],
 "metadata": {
  "kernelspec": {
   "display_name": "Python 3",
   "language": "python",
   "name": "python3"
  },
  "language_info": {
   "codemirror_mode": {
    "name": "ipython",
    "version": 3
   },
   "file_extension": ".py",
   "mimetype": "text/x-python",
   "name": "python",
   "nbconvert_exporter": "python",
   "pygments_lexer": "ipython3",
   "version": "3.6.5"
  },
  "toc": {
   "base_numbering": 1,
   "nav_menu": {},
   "number_sections": true,
   "sideBar": true,
   "skip_h1_title": false,
   "title_cell": "Table of Contents",
   "title_sidebar": "Contents",
   "toc_cell": false,
   "toc_position": {},
   "toc_section_display": true,
   "toc_window_display": false
  },
  "varInspector": {
   "cols": {
    "lenName": 16,
    "lenType": 16,
    "lenVar": 40
   },
   "kernels_config": {
    "python": {
     "delete_cmd_postfix": "",
     "delete_cmd_prefix": "del ",
     "library": "var_list.py",
     "varRefreshCmd": "print(var_dic_list())"
    },
    "r": {
     "delete_cmd_postfix": ") ",
     "delete_cmd_prefix": "rm(",
     "library": "var_list.r",
     "varRefreshCmd": "cat(var_dic_list()) "
    }
   },
   "types_to_exclude": [
    "module",
    "function",
    "builtin_function_or_method",
    "instance",
    "_Feature"
   ],
   "window_display": false
  }
 },
 "nbformat": 4,
 "nbformat_minor": 2
}
