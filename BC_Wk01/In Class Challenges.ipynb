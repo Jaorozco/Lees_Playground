{
 "cells": [
  {
   "cell_type": "code",
   "execution_count": 14,
   "metadata": {},
   "outputs": [
    {
     "name": "stdout",
     "output_type": "stream",
     "text": [
      "[[('Andrea', 'Doug'), ('Cassandra', 'Bob')], [('Andrea', 'Bob'), ('Doug', 'Cassandra')], [('Andrea', 'Cassandra'), ('Bob', 'Doug')]]\n"
     ]
    }
   ],
   "source": [
    "'''Problem: The first problem is to determine a schedule of pairings so that everyone has a pair every day, \n",
    "and everyone eventually pairs with everyone else. \n",
    "Write a function that takes a list of names and returns a list of \n",
    "lists of tuples representing pairs. (Assume an even number of names, all distinct.) \n",
    "For example:\n",
    "            pairs_for(['Andrea', 'Bob', 'Cassandra', 'Doug'])\n",
    "            [[('Bob', 'Cassandra'), ('Andrea', 'Doug')],\n",
    "            [('Andrea', 'Bob'), ('Cassandra', 'Doug')],\n",
    "            [('Andrea', 'Cassandra'), ('Bob', 'Doug')]]'''\n",
    "\n",
    "def pairs_for(names):\n",
    "    n = len(names)\n",
    "    assert n % 2 == 0 \n",
    "    result = []\n",
    "    first = names[:n//2]\n",
    "\n",
    "    second = names[n//2:]\n",
    "\n",
    "    for _ in range(n-1):\n",
    "        second.append(first.pop())\n",
    "        first.insert(1, second.pop(0))\n",
    "        \n",
    "        result.append(list(zip(first, second)))\n",
    "    return result\n",
    "\n",
    "print(pairs_for(['Andrea', 'Bob', 'Cassandra', 'Doug']))"
   ]
  },
  {
   "cell_type": "code",
   "execution_count": 19,
   "metadata": {},
   "outputs": [
    {
     "name": "stdout",
     "output_type": "stream",
     "text": [
      "['Andrea', 'Bob']\n",
      "['Cassandra', 'Doug']\n"
     ]
    }
   ],
   "source": [
    "#my_coding for challenge \n",
    "names = ['Andrea', 'Bob', 'Cassandra', 'Doug']\n",
    "\n",
    "n = len(names)\n",
    "#print(n)\n",
    "assert n % 2 == 0\n",
    "    \n",
    "result = []\n",
    "first = names[:n//2]\n",
    "print(first)\n",
    "second = names[n//2:]\n",
    "print(second)\n",
    "#for _ in range(n-1):\n",
    "#    second.append(first.pop())\n",
    "#    first.insert(1, second.pop(0))\n",
    "        \n",
    "#    result.append(list(zip(first, second)))\n",
    "#print(result)"
   ]
  },
  {
   "cell_type": "code",
   "execution_count": 2,
   "metadata": {},
   "outputs": [],
   "source": [
    "def anagram_checker(word1, word2):\n",
    "    my_list1 = word1\n",
    "    my_list2 = word2\n",
    "    return sorted(my_list1) == sorted(my_list2)\n",
    "\n",
    "#anagram_checker('cato', 'taco')"
   ]
  },
  {
   "cell_type": "code",
   "execution_count": 30,
   "metadata": {},
   "outputs": [
    {
     "name": "stdout",
     "output_type": "stream",
     "text": [
      "1\n",
      "2\n",
      "Fizz\n",
      "4\n",
      "Buzz\n",
      "Fizz\n",
      "7\n",
      "8\n",
      "Fizz\n",
      "Buzz\n",
      "11\n",
      "Fizz\n",
      "13\n",
      "14\n",
      "FizzBuzz\n",
      "16\n",
      "17\n",
      "Fizz\n",
      "19\n",
      "Buzz\n",
      "Fizz\n",
      "22\n",
      "23\n",
      "Fizz\n",
      "Buzz\n",
      "26\n",
      "Fizz\n",
      "28\n",
      "29\n",
      "FizzBuzz\n",
      "31\n",
      "32\n",
      "Fizz\n",
      "34\n",
      "Buzz\n",
      "Fizz\n",
      "37\n",
      "38\n",
      "Fizz\n",
      "Buzz\n",
      "41\n",
      "Fizz\n",
      "43\n",
      "44\n",
      "FizzBuzz\n",
      "46\n",
      "47\n",
      "Fizz\n",
      "49\n",
      "Buzz\n",
      "Fizz\n",
      "52\n",
      "53\n",
      "Fizz\n",
      "Buzz\n",
      "56\n",
      "Fizz\n",
      "58\n",
      "59\n",
      "FizzBuzz\n",
      "61\n",
      "62\n",
      "Fizz\n",
      "64\n",
      "Buzz\n",
      "Fizz\n",
      "67\n",
      "68\n",
      "Fizz\n",
      "Buzz\n",
      "71\n",
      "Fizz\n",
      "73\n",
      "74\n",
      "FizzBuzz\n",
      "76\n",
      "77\n",
      "Fizz\n",
      "79\n",
      "Buzz\n",
      "Fizz\n",
      "82\n",
      "83\n",
      "Fizz\n",
      "Buzz\n",
      "86\n",
      "Fizz\n",
      "88\n",
      "89\n",
      "FizzBuzz\n",
      "91\n",
      "92\n",
      "Fizz\n",
      "94\n",
      "Buzz\n",
      "Fizz\n",
      "97\n",
      "98\n",
      "Fizz\n",
      "Buzz\n"
     ]
    }
   ],
   "source": [
    "#fizzbuzz challenge for 25th Sept 2018\n",
    "for i in range(1,101):\n",
    "    if i % 15 == 0:\n",
    "        print(\"FizzBuzz\")\n",
    "    elif i % 3 == 0:\n",
    "        print(\"Fizz\")\n",
    "    elif i % 5 == 0:\n",
    "        print(\"Buzz\")\n",
    "    else:\n",
    "        print(i)"
   ]
  },
  {
   "cell_type": "code",
   "execution_count": 41,
   "metadata": {},
   "outputs": [
    {
     "data": {
      "text/plain": [
       "'IMAWS'"
      ]
     },
     "execution_count": 41,
     "metadata": {},
     "output_type": "execute_result"
    }
   ],
   "source": [
    "# Paired programming 9/26\n",
    "strings = \"abcdefghijk\"\n",
    "\n",
    "def reverse(strings):\n",
    "    return strings[::-1]\n",
    "#def i in len(string):\n",
    "reverse('SWAMI')   "
   ]
  },
  {
   "cell_type": "code",
   "execution_count": null,
   "metadata": {},
   "outputs": [],
   "source": [
    "def reverse2(strings1):\n",
    "    for i in len(stri)"
   ]
  },
  {
   "cell_type": "code",
   "execution_count": 52,
   "metadata": {},
   "outputs": [
    {
     "data": {
      "text/plain": [
       "'No'"
      ]
     },
     "execution_count": 52,
     "metadata": {},
     "output_type": "execute_result"
    }
   ],
   "source": [
    "# Paired programming 9/26\n",
    "strings = ''\n",
    "my_list = []\n",
    "\n",
    "def canyouspell(my_list,strings):\n",
    "    counter = 0\n",
    "    for i in range(len(strings)):\n",
    "        if strings[i] in my_list:\n",
    "            counter += 1\n",
    "            my_list.remove(strings[i])\n",
    "        else:\n",
    "            counter += 0 \n",
    "    if counter >= len(strings):\n",
    "        return \"Yes\" \n",
    "    else:\n",
    "        return \"No\" \n",
    "    \n",
    "canyouspell(['L','e','s','s'], 'Lee')  "
   ]
  },
  {
   "cell_type": "code",
   "execution_count": 79,
   "metadata": {},
   "outputs": [
    {
     "name": "stdout",
     "output_type": "stream",
     "text": [
      "a\n",
      "b\n",
      "c\n",
      "d\n",
      "e\n",
      "f\n",
      "g\n",
      "h\n",
      "i\n",
      "j\n",
      "k\n"
     ]
    }
   ],
   "source": [
    "strings = \"abcdefghijk\"\n",
    "for i in range(len(strings)):\n",
    "    print(strings[i-len(strings)])\n",
    "    "
   ]
  },
  {
   "cell_type": "code",
   "execution_count": 47,
   "metadata": {},
   "outputs": [
    {
     "data": {
      "text/plain": [
       "['e', 'e']"
      ]
     },
     "execution_count": 47,
     "metadata": {},
     "output_type": "execute_result"
    }
   ],
   "source": [
    "list1"
   ]
  },
  {
   "cell_type": "code",
   "execution_count": 76,
   "metadata": {},
   "outputs": [
    {
     "name": "stdout",
     "output_type": "stream",
     "text": [
      "(0, 'a')\n",
      "(1, 'b')\n",
      "(2, 'c')\n",
      "(3, 'd')\n",
      "(4, 'e')\n",
      "(5, 'f')\n",
      "(6, 'g')\n",
      "(7, 'h')\n",
      "(8, 'i')\n",
      "(9, 'j')\n",
      "(10, 'k')\n"
     ]
    }
   ],
   "source": [
    "for i in enumerate(strings):\n",
    "    print(i)"
   ]
  },
  {
   "cell_type": "code",
   "execution_count": null,
   "metadata": {},
   "outputs": [],
   "source": [
    "# Paid Programming Challenges for 9/27/2018\n",
    "\n",
    "#imports the 'random' package for python\n",
    "import random\n",
    "\n",
    "#defining variables for the game \n",
    "secret_number = random.randint(0, 101)\n",
    "guess = int(input(\"Take a guess: \"))\n",
    "tries = 1\n",
    "\n",
    "\n",
    "# doing a while loop until user guesses the correct number based on the random function used using the random package\n",
    "while guess != secret_number:\n",
    "    if guess > secret_number:\n",
    "        print(\"your guess is high\")\n",
    "    else:\n",
    "        print(\"your guess is low\")\n",
    "\n",
    "    guess = int(input(\"Take a guess: \"))\n",
    "    tries += 1\n",
    "    if tries == 10:\n",
    "        print (f\"You failed to guess in time after guessing {tries} times\")\n",
    "        break\n",
    "    if guess == secret_number:\n",
    "        print(f\"You guessed it! The number was {secret_number}\")\n",
    "        print(\"And it only took you\", tries, \"tries!\\n\")\n",
    "\n",
    "        input(\"\\n\\nPress the enter key to exit.\")"
   ]
  },
  {
   "cell_type": "code",
   "execution_count": 7,
   "metadata": {},
   "outputs": [],
   "source": [
    "# Paid Programming Challenges for 9/27/2018\n",
    "\n",
    "def guess(number):\n",
    "    count = 1\n",
    "    if number > 50:\n",
    "        if number < 75:\n",
    "            for i in range(51, 75):\n",
    "                count += 1\n",
    "                if i == number:\n",
    "                    return print('I got it right in ' + str(count) + ' tries')\n",
    "        if number >= 75:\n",
    "            for i in range (75, 101):\n",
    "                count += 1\n",
    "            if i == number:\n",
    "                    return print('I got it right in ' + str(count) + ' tries')\n",
    "\n",
    "    if number <= 50:\n",
    "        if number < 25:\n",
    "            for i in range(1, 25):\n",
    "                count += 1\n",
    "                if i == number:\n",
    "                    return print('I got it right in ' + str(count) + ' tries')\n",
    "        if number >= 25:\n",
    "            for i in range (25, 51):\n",
    "                count += 1\n",
    "            if i == number:\n",
    "                return print('I got it right in ' + str(count) + ' tries')\n",
    "    "
   ]
  },
  {
   "cell_type": "code",
   "execution_count": 10,
   "metadata": {},
   "outputs": [
    {
     "name": "stdout",
     "output_type": "stream",
     "text": [
      "I got it right in 20 tries\n"
     ]
    }
   ],
   "source": [
    "guess(19)"
   ]
  },
  {
   "cell_type": "code",
   "execution_count": null,
   "metadata": {},
   "outputs": [],
   "source": [
    "#Euler problem# 8 Find the thirteen adjacent digits in the 1000-digit number that have the greatest product.\n",
    "#What is the value of this product?"
   ]
  }
 ],
 "metadata": {
  "kernelspec": {
   "display_name": "Python 3",
   "language": "python",
   "name": "python3"
  },
  "language_info": {
   "codemirror_mode": {
    "name": "ipython",
    "version": 3
   },
   "file_extension": ".py",
   "mimetype": "text/x-python",
   "name": "python",
   "nbconvert_exporter": "python",
   "pygments_lexer": "ipython3",
   "version": "3.6.5"
  }
 },
 "nbformat": 4,
 "nbformat_minor": 2
}
